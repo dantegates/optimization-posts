{
 "cells": [
  {
   "cell_type": "markdown",
   "id": "cc2f88bb-fba0-4b1f-abf0-2b22b8218a32",
   "metadata": {},
   "source": [
    "TODO: learned vocab should only be over the vocab in the cipher. in other words\n",
    "X should be `n words x n letters x n cipher vocab` and $\\pi$ should be \n",
    "`n cipher vocab x n vocab"
   ]
  },
  {
   "cell_type": "markdown",
   "id": "25755716-a442-4af7-9b44-f9441c623570",
   "metadata": {},
   "source": [
    "# Setup"
   ]
  },
  {
   "cell_type": "code",
   "execution_count": 1,
   "id": "8b168d5c-dda5-4084-bf4b-5bd0a406dc7e",
   "metadata": {},
   "outputs": [
    {
     "data": {
      "text/plain": [
       "27"
      ]
     },
     "execution_count": 1,
     "metadata": {},
     "output_type": "execute_result"
    }
   ],
   "source": [
    "import string\n",
    "from cryptogram import vectorize_text\n",
    "\n",
    "TARGET_ALPHABET = string.ascii_uppercase + ' '\n",
    "len(TARGET_ALPHABET)"
   ]
  },
  {
   "cell_type": "markdown",
   "id": "00ca5e62-d9a2-486e-b731-4a8f90f3cb09",
   "metadata": {},
   "source": [
    "# Define Cryptogram"
   ]
  },
  {
   "cell_type": "code",
   "execution_count": 2,
   "id": "17fb3306-2ab3-45f8-9b4c-accdcc3ebb5a",
   "metadata": {},
   "outputs": [],
   "source": [
    "import string\n",
    "\n",
    "import numpy as np\n",
    "\n",
    "# useful for testing a known case\n",
    "def encrypt(s):\n",
    "    s = s.upper()\n",
    "    key = {\n",
    "        a: b\n",
    "        for a, b in zip(string.ascii_uppercase, sorted(string.ascii_uppercase, key=lambda _: np.random.rand()))\n",
    "    }\n",
    "    return s.translate(str.maketrans(key)), key"
   ]
  },
  {
   "cell_type": "code",
   "execution_count": 3,
   "id": "7e5132f2-f6a4-44cc-8879-6c4f2c916d71",
   "metadata": {},
   "outputs": [],
   "source": [
    "CRYPTOGRAM_BASE, true_key = encrypt('''\n",
    "Call me Ishmael. Some years ago - never mind how long precisely - having little or no money in my purse, and nothing particular to interest me on shore, I thought I would sail about a little and see the watery part of the world.\n",
    "''')"
   ]
  },
  {
   "cell_type": "code",
   "execution_count": 4,
   "id": "8928676c-0648-4d47-ad1d-20f5f8ccbb4b",
   "metadata": {},
   "outputs": [],
   "source": [
    "CRYPTOGRAM_BASE = '''\n",
    "ED KFT JPRN UERVB VPYB DP YC\n",
    "FDDBRDEPR DKFD IBPIJB PA\n",
    "FVVPYIJEUKYBRD OFOBJC UFD QFVX FRT\n",
    "JBD DKERNU KFIIBR DP DKBY DKBC LBRD\n",
    "PHD FRT KFIIBRBT DP DKERNU\n",
    "'''\n",
    "\n",
    "CRYPTOGRAM_BASE = '''\n",
    "JO CASZUY ESFVPMO SZF OXOKPOC HZD\n",
    "XSD HOESFO DAOG QFO AQXVOY\n",
    "'''\n",
    "\n",
    "CRYPTOGRAM_BASE = '''\n",
    "D'IK AKVJZ RS MKHYDPK RUHR NSJ OHZ\n",
    "YDTRKZ RS TDYKZOK HZF YKHMZ LMSG DR.\n",
    "DR UHT H XJHYDRN HZF H FDGKZTDSZ\n",
    "HYY DRT SCZ.\n",
    "'''"
   ]
  },
  {
   "cell_type": "markdown",
   "id": "1bc6af94-4999-43fc-8b16-7a65000023ce",
   "metadata": {},
   "source": [
    "## Preprocess Cryptogram"
   ]
  },
  {
   "cell_type": "code",
   "execution_count": 5,
   "id": "ba7d4c96-674c-4266-8a13-378112e46050",
   "metadata": {},
   "outputs": [],
   "source": [
    "# basic preprocessing\n",
    "CRYPTOGRAM = (\n",
    "    CRYPTOGRAM_BASE\n",
    "    .upper()\n",
    "    .translate(\n",
    "        str.maketrans({c: '' for c in string.punctuation})\n",
    "    )\n",
    "    .split()\n",
    ")\n",
    "\n",
    "# split into ngrams\n",
    "CRYPTOGRAM = [\n",
    "    w1 + ' ' + w2\n",
    "    for w1, w2 in zip(CRYPTOGRAM[:-1], CRYPTOGRAM[1:])\n",
    "]"
   ]
  },
  {
   "cell_type": "code",
   "execution_count": 29,
   "id": "f97058ae-069a-4161-a602-95dc69f701a6",
   "metadata": {},
   "outputs": [
    {
     "data": {
      "text/plain": [
       "['ED KFT', 'KFT JPRN', 'JPRN UERVB']"
      ]
     },
     "execution_count": 29,
     "metadata": {},
     "output_type": "execute_result"
    }
   ],
   "source": [
    "CRYPTOGRAM[:3]"
   ]
  },
  {
   "cell_type": "markdown",
   "id": "d03d1d73-df3b-49e8-88aa-c52b29cefa24",
   "metadata": {},
   "source": [
    "## Load Dictionary\n",
    "\n",
    "*Prerequisite*: Run `google-books-ngrams-download.ipynb`."
   ]
  },
  {
   "cell_type": "code",
   "execution_count": 6,
   "id": "308b3ab0-7398-4a39-a24b-d54ddf34b0b7",
   "metadata": {},
   "outputs": [
    {
     "data": {
      "text/plain": [
       "[((0, 1, 2, 3, 4, 5, 6, 7), 4),\n",
       " ((0, 1, 2, 3, 4, 5), 2),\n",
       " ((0, 1, 2, 3, 3, 4, 4, 5, 5), 6),\n",
       " ((0, 1, 2, 3, 4, 5, 6), 3),\n",
       " ((0, 1, 2, 2, 3, 4, 5, 6, 7, 7), 6)]"
      ]
     },
     "execution_count": 6,
     "metadata": {},
     "output_type": "execute_result"
    }
   ],
   "source": [
    "from collections import defaultdict\n",
    "\n",
    "\n",
    "# this is used to prevent loading ngrams which could not possibly\n",
    "# match a single ngrams in the cryptogram\n",
    "\n",
    "def word_group(w):\n",
    "    word_sequence = tuple([\n",
    "        len(set(w[:i]))\n",
    "        for\n",
    "        i in range(len(w))\n",
    "    ])\n",
    "    return word_sequence, w.index(' ')\n",
    "\n",
    "search_space = set()\n",
    "for word in CRYPTOGRAM:\n",
    "    search_space.add(word_group(word))\n",
    "list(search_space)[:5]"
   ]
  },
  {
   "cell_type": "code",
   "execution_count": 7,
   "id": "942efb02-1a58-441d-b79e-1e74c344fdec",
   "metadata": {},
   "outputs": [
    {
     "data": {
      "text/plain": [
       "(348885, 3)"
      ]
     },
     "execution_count": 7,
     "metadata": {},
     "output_type": "execute_result"
    }
   ],
   "source": [
    "import glob\n",
    "import pandas as pd\n",
    "\n",
    "\n",
    "def load_ngrams(f):\n",
    "    df = pd.read_csv(f)\n",
    "    df['word_group'] = df.ngram.str.strip().apply(word_group)\n",
    "    return df[df.word_group.apply(search_space.__contains__)]\n",
    "\n",
    "frequencies = pd.concat((load_ngrams(f) for f in glob.glob('ngrams/*-clean.csv.gz')))\n",
    "frequencies.shape"
   ]
  },
  {
   "cell_type": "code",
   "execution_count": 8,
   "id": "41e22e46-ef3b-43cd-b978-cc9f26c4db3d",
   "metadata": {},
   "outputs": [
    {
     "data": {
      "text/html": [
       "<div>\n",
       "<style scoped>\n",
       "    .dataframe tbody tr th:only-of-type {\n",
       "        vertical-align: middle;\n",
       "    }\n",
       "\n",
       "    .dataframe tbody tr th {\n",
       "        vertical-align: top;\n",
       "    }\n",
       "\n",
       "    .dataframe thead th {\n",
       "        text-align: right;\n",
       "    }\n",
       "</style>\n",
       "<table border=\"1\" class=\"dataframe\">\n",
       "  <thead>\n",
       "    <tr style=\"text-align: right;\">\n",
       "      <th></th>\n",
       "      <th>ngram</th>\n",
       "      <th>occurrences</th>\n",
       "      <th>word_group</th>\n",
       "    </tr>\n",
       "  </thead>\n",
       "  <tbody>\n",
       "    <tr>\n",
       "      <th>19</th>\n",
       "      <td>ABCD may</td>\n",
       "      <td>2</td>\n",
       "      <td>((0, 1, 2, 3, 4, 5, 6, 7), 4)</td>\n",
       "    </tr>\n",
       "    <tr>\n",
       "      <th>22</th>\n",
       "      <td>ABE have</td>\n",
       "      <td>2</td>\n",
       "      <td>((0, 1, 2, 3, 4, 5, 6, 7), 3)</td>\n",
       "    </tr>\n",
       "    <tr>\n",
       "      <th>23</th>\n",
       "      <td>ABED is</td>\n",
       "      <td>2</td>\n",
       "      <td>((0, 1, 2, 3, 4, 5, 6), 4)</td>\n",
       "    </tr>\n",
       "    <tr>\n",
       "      <th>25</th>\n",
       "      <td>ABG and</td>\n",
       "      <td>15</td>\n",
       "      <td>((0, 1, 2, 3, 4, 5, 6), 3)</td>\n",
       "    </tr>\n",
       "    <tr>\n",
       "      <th>26</th>\n",
       "      <td>ABMY OF</td>\n",
       "      <td>1</td>\n",
       "      <td>((0, 1, 2, 3, 4, 5, 6), 4)</td>\n",
       "    </tr>\n",
       "  </tbody>\n",
       "</table>\n",
       "</div>"
      ],
      "text/plain": [
       "       ngram  occurrences                     word_group\n",
       "19  ABCD may            2  ((0, 1, 2, 3, 4, 5, 6, 7), 4)\n",
       "22  ABE have            2  ((0, 1, 2, 3, 4, 5, 6, 7), 3)\n",
       "23   ABED is            2     ((0, 1, 2, 3, 4, 5, 6), 4)\n",
       "25   ABG and           15     ((0, 1, 2, 3, 4, 5, 6), 3)\n",
       "26   ABMY OF            1     ((0, 1, 2, 3, 4, 5, 6), 4)"
      ]
     },
     "execution_count": 8,
     "metadata": {},
     "output_type": "execute_result"
    }
   ],
   "source": [
    "frequencies.head()"
   ]
  },
  {
   "cell_type": "code",
   "execution_count": 30,
   "id": "46e99ff7-e374-4a44-b1c9-97e453d2cea7",
   "metadata": {},
   "outputs": [
    {
     "data": {
      "text/plain": [
       "(41455, 5)"
      ]
     },
     "execution_count": 30,
     "metadata": {},
     "output_type": "execute_result"
    }
   ],
   "source": [
    "# just for efficiency\n",
    "frequencies = frequencies[frequencies.occurrences.gt(100)]\n",
    "frequencies.shape"
   ]
  },
  {
   "cell_type": "code",
   "execution_count": 10,
   "id": "dad1a29f-70fe-4454-9206-79ec9c3a4245",
   "metadata": {},
   "outputs": [],
   "source": [
    "import numpy as np\n",
    "\n",
    "frequencies['word'] = frequencies.ngram.str.strip().str.upper()\n",
    "frequencies['log_likelihood'] = (\n",
    "    np.log10(frequencies.occurrences)\n",
    "    # _important_: The denominator is the sum of all occurrences within each word group\n",
    "    # _not_ over all bigrams.\n",
    "    - np.log10(frequencies.word_group.map(frequencies.groupby('word_group').occurrences.sum()))\n",
    ")"
   ]
  },
  {
   "cell_type": "code",
   "execution_count": 11,
   "id": "02619bb6-4f0e-4416-9f49-0a22acbb7eef",
   "metadata": {},
   "outputs": [
    {
     "data": {
      "text/plain": [
       "<Axes: >"
      ]
     },
     "execution_count": 11,
     "metadata": {},
     "output_type": "execute_result"
    },
    {
     "data": {
      "image/png": "[encoded data removed]",
      "text/plain": [
       "<Figure size 640x480 with 1 Axes>"
      ]
     },
     "metadata": {},
     "output_type": "display_data"
    }
   ],
   "source": [
    "frequencies.log_likelihood.hist()"
   ]
  },
  {
   "cell_type": "markdown",
   "id": "afe6168a-93c4-4799-8c6a-855d525e3924",
   "metadata": {},
   "source": [
    "## Vectorize\n",
    "\n",
    "Encode the text as one-hot arrays with shape `(n words, n characters, alphabet)`"
   ]
  },
  {
   "cell_type": "code",
   "execution_count": 12,
   "id": "a5276a21-1a4c-4cfe-a8e9-d640f483a32d",
   "metadata": {},
   "outputs": [
    {
     "data": {
      "text/plain": [
       "((27, 21, 27), (41455, 17, 27))"
      ]
     },
     "execution_count": 12,
     "metadata": {},
     "output_type": "execute_result"
    }
   ],
   "source": [
    "X = vectorize_text(CRYPTOGRAM, TARGET_ALPHABET)\n",
    "V = vectorize_text(frequencies.word.tolist(), TARGET_ALPHABET)\n",
    "X.shape, V.shape"
   ]
  },
  {
   "cell_type": "code",
   "execution_count": 13,
   "id": "0982e51a-2c3e-4c6e-95ae-939d2ccdaf08",
   "metadata": {},
   "outputs": [
    {
     "data": {
      "text/plain": [
       "(41455, 21, 27)"
      ]
     },
     "execution_count": 13,
     "metadata": {},
     "output_type": "execute_result"
    }
   ],
   "source": [
    "# It's possible that X has words of length not found in the dictionary\n",
    "# (but not the other way around due to how the dictionary is loaded).\n",
    "# \n",
    "# If this is the case we pad the values so the matrix math doesn't blow\n",
    "# up and the masking takes care of the rest.\n",
    "V = np.pad(V, ((0, 0), (0, X.shape[1]-V.shape[1]), (0, 0)))\n",
    "V.shape"
   ]
  },
  {
   "cell_type": "markdown",
   "id": "81852014-1505-4e4e-9065-9bfdabc47b50",
   "metadata": {},
   "source": [
    "# Get Masks"
   ]
  },
  {
   "cell_type": "code",
   "execution_count": 14,
   "id": "9bb8e235-0a3a-425b-ac09-dcc627fe7fe0",
   "metadata": {},
   "outputs": [],
   "source": [
    "def get_shared_word_separater_mask(text1, text2):\n",
    "    separater_pos1 = np.array([w.index(' ') for w in text1])\n",
    "    separater_pos2 = np.array([w.index(' ') for w in text2])\n",
    "    return separater_pos1[:, None] == separater_pos2[None, :]"
   ]
  },
  {
   "cell_type": "code",
   "execution_count": 15,
   "id": "79d5a161-b93e-47a3-aa55-b6b2d9427afd",
   "metadata": {},
   "outputs": [
    {
     "data": {
      "image/png": "[encoded data removed]",
      "text/plain": [
       "<Figure size 640x480 with 1 Axes>"
      ]
     },
     "metadata": {},
     "output_type": "display_data"
    }
   ],
   "source": [
    "import matplotlib.pyplot as plt\n",
    "\n",
    "from cryptogram import get_shared_word_length_mask, get_shared_token_sequence_mask\n",
    "\n",
    "\n",
    "fig, ax = plt.subplots()\n",
    "\n",
    "mask = (\n",
    "    get_shared_word_length_mask(CRYPTOGRAM, frequencies.word.tolist())\n",
    "    * get_shared_token_sequence_mask(X, V)\n",
    "    * get_shared_word_separater_mask(CRYPTOGRAM, frequencies.word.tolist())\n",
    ")\n",
    "ax.bar(np.arange(mask.shape[0]), mask.sum(axis=1))\n",
    "\n",
    "ax.set_title('Potential matches in dictionary\\nfor ngram in cryptogram')\n",
    "_ = ax.set_xticks(np.arange(mask.shape[0]), CRYPTOGRAM, rotation=90)\n",
    "ax.yaxis.set_major_formatter('{x:,.0f}')"
   ]
  },
  {
   "cell_type": "markdown",
   "id": "ac56236d-7b05-42c7-ac7a-5e7ff87f6ec1",
   "metadata": {},
   "source": [
    "# Random Scores"
   ]
  },
  {
   "cell_type": "code",
   "execution_count": 16,
   "id": "c3263d99-515f-4c3d-9950-c728fbfbb1f7",
   "metadata": {},
   "outputs": [],
   "source": [
    "from cryptogram import word_vector_overlap\n",
    "\n",
    "\n",
    "F = frequencies.log_likelihood.values\n",
    "def score(π, X, V, F, mask):\n",
    "    Xt = X @ π\n",
    "    matches = word_vector_overlap(torch.log(Xt+1e-24), V)\n",
    "    return (matches*mask + F[None, :]*mask)"
   ]
  },
  {
   "cell_type": "code",
   "execution_count": 17,
   "id": "b1f0a8e3-d68c-4238-9a68-49d5e4cb3c71",
   "metadata": {},
   "outputs": [
    {
     "data": {
      "text/plain": [
       "<matplotlib.lines.Line2D at 0x147eec910>"
      ]
     },
     "execution_count": 17,
     "metadata": {},
     "output_type": "execute_result"
    },
    {
     "data": {
      "image/png": "[encoded data removed]",
      "text/plain": [
       "<Figure size 640x480 with 1 Axes>"
      ]
     },
     "metadata": {},
     "output_type": "display_data"
    }
   ],
   "source": [
    "import matplotlib.pyplot as plt\n",
    "import torch\n",
    "\n",
    "\n",
    "# this is only helpful if we know the original mapping\n",
    "\n",
    "fig, ax = plt.subplots()\n",
    "\n",
    "random_scores = []\n",
    "for _ in range(250):\n",
    "    π = np.eye(len(TARGET_ALPHABET))\n",
    "    np.random.shuffle(π)\n",
    "    random_scores.append(\n",
    "        -score(*[\n",
    "            torch.from_numpy(a)\n",
    "            for a in (π, X, V, F, mask)\n",
    "        ]).mean()\n",
    "    )\n",
    "ax.hist(random_scores, bins=40)\n",
    "\n",
    "π = np.eye(len(TARGET_ALPHABET))\n",
    "true_score = -score(*[\n",
    "    torch.from_numpy(a)\n",
    "    for a in (π, X, V, F, mask)\n",
    "]).mean()\n",
    "ax.axvline(true_score, color='C7')"
   ]
  },
  {
   "cell_type": "markdown",
   "id": "fd646551-d6fa-45d0-a393-60aaa7344db5",
   "metadata": {},
   "source": [
    "# pytorch"
   ]
  },
  {
   "cell_type": "code",
   "execution_count": 18,
   "id": "d852b98b-8c75-454a-9c85-525d05c920af",
   "metadata": {},
   "outputs": [],
   "source": [
    "import torch\n",
    "\n",
    "X = torch.from_numpy(X)\n",
    "V = torch.from_numpy(V)\n",
    "F = torch.from_numpy(F)\n",
    "mask = torch.from_numpy(mask).type(torch.float64)"
   ]
  },
  {
   "cell_type": "markdown",
   "id": "48673672-d1ae-4d6a-9213-ffb1adf9fe2d",
   "metadata": {},
   "source": [
    "$$\n",
    "P(w^{\\prime}) = \\sum_{w}^{}{P(w^{\\prime}\\vert w)P(w)}\n",
    "$$"
   ]
  },
  {
   "cell_type": "code",
   "execution_count": 19,
   "id": "8dc0ccd7-578d-4a2d-b1a4-0e02027f1e43",
   "metadata": {},
   "outputs": [
    {
     "data": {
      "text/plain": [
       "(tensor([0.9996, 1.0001, 1.0001, 1.0009, 1.0001, 0.9998, 0.9998, 1.0002, 1.0000,\n",
       "         1.0000, 1.0000, 0.9999, 1.0000, 1.0005, 1.0001, 1.0001, 0.9999, 1.0000,\n",
       "         1.0003, 0.9977, 1.0001, 1.0002, 0.9999, 1.0003, 1.0003, 1.0000, 0.9998],\n",
       "        dtype=torch.float64, grad_fn=<SumBackward1>),\n",
       " tensor([1.0000, 1.0000, 1.0000, 1.0000, 1.0000, 1.0000, 1.0000, 1.0000, 1.0000,\n",
       "         1.0000, 1.0000, 1.0000, 1.0000, 1.0000, 1.0000, 1.0000, 1.0000, 1.0000,\n",
       "         1.0000, 1.0000, 1.0000, 1.0000, 1.0000, 1.0000, 1.0000, 1.0000, 1.0000],\n",
       "        dtype=torch.float64, grad_fn=<SumBackward1>),\n",
       " torch.Size([27, 27]))"
      ]
     },
     "execution_count": 19,
     "metadata": {},
     "output_type": "execute_result"
    }
   ],
   "source": [
    "def score(π, X, V, mask):\n",
    "    Xt = X @ π\n",
    "    matches = word_vector_overlap(torch.log(Xt+1e-24), V)\n",
    "    return (matches*mask + F[None, :]*mask)\n",
    "\n",
    "def make_π(σ):\n",
    "    # https://www.math.uci.edu/~jxin/AutoShuffleNet_KDD2020F.pdf\n",
    "    π = torch.exp(σ)\n",
    "    for _ in range(3):\n",
    "        for axis in [0, 1]:\n",
    "            π = π / π.sum(axis=axis, keepdims=True)\n",
    "    return π\n",
    "\n",
    "σ = torch.randn(len(TARGET_ALPHABET), len(TARGET_ALPHABET), dtype=torch.float64, requires_grad=True)\n",
    "π = make_π(σ)\n",
    "π.sum(axis=0), π.sum(axis=1), π.shape"
   ]
  },
  {
   "cell_type": "code",
   "execution_count": 20,
   "id": "1541a741-c443-4df3-8a5a-a73bcdb814ac",
   "metadata": {},
   "outputs": [
    {
     "data": {
      "text/plain": [
       "Adam (\n",
       "Parameter Group 0\n",
       "    amsgrad: False\n",
       "    betas: (0.9, 0.999)\n",
       "    capturable: False\n",
       "    differentiable: False\n",
       "    eps: 1e-08\n",
       "    foreach: None\n",
       "    fused: None\n",
       "    lr: 0.001\n",
       "    maximize: False\n",
       "    weight_decay: 0\n",
       ")"
      ]
     },
     "execution_count": 20,
     "metadata": {},
     "output_type": "execute_result"
    }
   ],
   "source": [
    "optimizer = torch.optim.Adam([σ])\n",
    "optimizer"
   ]
  },
  {
   "cell_type": "code",
   "execution_count": 21,
   "id": "6d7feab8-ea70-4a63-b76c-725819ce39b7",
   "metadata": {
    "scrolled": true
   },
   "outputs": [
    {
     "data": {
      "application/vnd.jupyter.widget-view+json": {
       "model_id": "d1ef488dfe584b3d97c4e84d798a64c6",
       "version_major": 2,
       "version_minor": 0
      },
      "text/plain": [
       "  0%|          | 0/200000 [00:00<?, ?it/s]"
      ]
     },
     "metadata": {},
     "output_type": "display_data"
    }
   ],
   "source": [
    "from tqdm.notebook import tqdm\n",
    "\n",
    "def doubly_stochastic_constraint(π):\n",
    "    return sum(\n",
    "        (1 - π.sum(axis=axis)).abs().sum()\n",
    "        for axis in [0, 1]\n",
    "    )\n",
    "\n",
    "last_loss = np.inf\n",
    "with tqdm(range(200000)) as pbar:\n",
    "    for _ in pbar:\n",
    "        π = make_π(σ)\n",
    "        loss = (\n",
    "            -score(π, X, V, mask).mean()\n",
    "            + doubly_stochastic_constraint(π)\n",
    "        )\n",
    "        loss.retain_grad()\n",
    "        # Backpropagation\n",
    "        loss.backward()\n",
    "        optimizer.step()\n",
    "        optimizer.zero_grad()\n",
    "        loss = loss.item()\n",
    "        pbar.set_postfix(loss=f'{loss:>7f}')\n",
    "        if abs(last_loss - loss) < 1e-8:\n",
    "            break\n",
    "        last_loss = loss"
   ]
  },
  {
   "cell_type": "code",
   "execution_count": 22,
   "id": "3cd6c145-9b8d-44a0-9392-f6ab3390b3f6",
   "metadata": {},
   "outputs": [
    {
     "data": {
      "image/png": "[encoded data removed]",
      "text/plain": [
       "<Figure size 1000x500 with 2 Axes>"
      ]
     },
     "metadata": {},
     "output_type": "display_data"
    }
   ],
   "source": [
    "import matplotlib.pyplot as plt\n",
    "\n",
    "\n",
    "fig, axs = plt.subplots(1, 2, figsize=(10, 5))\n",
    "\n",
    "π = make_π(σ)\n",
    "π_max = π.detach().numpy()\n",
    "axs[0].imshow(π_max)\n",
    "_ = axs[0].set_xticks(np.arange(len(TARGET_ALPHABET)), TARGET_ALPHABET)\n",
    "_ = axs[0].set_yticks(np.arange(len(TARGET_ALPHABET)), TARGET_ALPHABET)\n",
    "\n",
    "axs[1].bar(np.arange(π_max.shape[0]), π_max.sum(axis=1), width=.3)\n",
    "axs[1].bar(np.arange(π_max.shape[1])+.5, π_max.sum(axis=0), width=.3)\n",
    "\n",
    "fig.tight_layout()"
   ]
  },
  {
   "cell_type": "markdown",
   "id": "ba2303f6-d116-4677-93d0-cf286ed0b5c4",
   "metadata": {},
   "source": [
    "# Heuristic: Solve for the cipher\n",
    "\n",
    "1. For each ngram, find the most likely corresponding ngram in the dictionary\n",
    "2. Over each pair from above, sum the frequencies that a given character in the cryptogram mapped to a given character in the target alphabet.\n",
    "3. Use these frequencies as the costs in a [linear assignment](https://en.wikipedia.org/wiki/Assignment_problem) to solve key to the cipher"
   ]
  },
  {
   "cell_type": "code",
   "execution_count": 23,
   "id": "f85c1e43-24b5-49ee-a8bc-9378a3e8a691",
   "metadata": {},
   "outputs": [
    {
     "data": {
      "text/plain": [
       "encrypted  decrypted\n",
       "A          F             1\n",
       "J          F             1\n",
       "           R             1\n",
       "           W             1\n",
       "K          A             1\n",
       "                        ..\n",
       "R          N            13\n",
       "P          O            15\n",
       "F          A            16\n",
       "D          T            17\n",
       "B          E            21\n",
       "Length: 83, dtype: int64"
      ]
     },
     "execution_count": 23,
     "metadata": {},
     "output_type": "execute_result"
    }
   ],
   "source": [
    "# masked values become 0, which overtake the actual values we're looking for in `argmax`\n",
    "scores = np.ma.masked_equal(score(π_max, X, V, mask).numpy(), 0.0, copy=False)\n",
    "\n",
    "translations = []\n",
    "for w, ix in zip(CRYPTOGRAM, np.argmin(-scores, axis=1)):\n",
    "    for w1, t1 in zip(w.split(), frequencies.word.iloc[ix].split()):\n",
    "        for c1, c2 in zip(w1, t1):\n",
    "            translations.append((c1, c2))\n",
    "translations = pd.DataFrame(translations, columns=['encrypted', 'decrypted'])\n",
    "translation_frequencies = translations.groupby(['encrypted', 'decrypted']).size().sort_values()\n",
    "translation_frequencies"
   ]
  },
  {
   "cell_type": "code",
   "execution_count": 24,
   "id": "de57a7f5-fc60-407b-9a38-5baaa9e3031f",
   "metadata": {
    "jupyter": {
     "source_hidden": true
    }
   },
   "outputs": [],
   "source": [
    "# # masked values become 0, which overtake the actual values we're looking for in `argmax`\n",
    "# scores = np.ma.masked_equal(score(π_max, X, V, mask).numpy(), 0.0, copy=False)\n",
    "\n",
    "# translations = []\n",
    "# for w, all_ix in zip(CRYPTOGRAM, np.argsort(-scores, axis=1)[:, :5]):\n",
    "#     for ix in all_ix:\n",
    "#         for w1, t1 in zip(w.split(), dictionary.word.iloc[ix].split()):\n",
    "#             for c1, c2 in zip(w1, t1):\n",
    "#                 translations.append((c1, c2))\n",
    "# translations = pd.DataFrame(translations, columns=['encrypted', 'decrypted'])\n",
    "# translation_frequencies = translations.groupby(['encrypted', 'decrypted']).size().sort_values()\n",
    "# translation_frequencies"
   ]
  },
  {
   "cell_type": "code",
   "execution_count": 25,
   "id": "d17e8844-0885-448a-b56f-ad37b7f114c0",
   "metadata": {},
   "outputs": [
    {
     "data": {
      "text/plain": [
       "{'A': 'F',\n",
       " 'B': 'E',\n",
       " 'C': 'Y',\n",
       " 'D': 'T',\n",
       " 'E': 'I',\n",
       " 'F': 'A',\n",
       " 'G': 'W',\n",
       " 'H': 'U',\n",
       " 'I': 'P',\n",
       " 'J': 'L',\n",
       " 'K': 'H',\n",
       " 'L': 'J',\n",
       " 'M': 'Q',\n",
       " 'N': 'G',\n",
       " 'O': 'R',\n",
       " 'P': 'O',\n",
       " 'Q': 'B',\n",
       " 'R': 'N',\n",
       " 'S': 'X',\n",
       " 'T': 'D',\n",
       " 'U': 'S',\n",
       " 'V': 'C',\n",
       " 'W': 'V',\n",
       " 'X': 'K',\n",
       " 'Y': 'M',\n",
       " 'Z': 'Z',\n",
       " ' ': ' '}"
      ]
     },
     "execution_count": 25,
     "metadata": {},
     "output_type": "execute_result"
    }
   ],
   "source": [
    "from scipy.optimize import linear_sum_assignment\n",
    "\n",
    "C = translation_frequencies.unstack('decrypted').fillna(0)\n",
    "C = C.reindex(list(TARGET_ALPHABET)).reindex(list(TARGET_ALPHABET), axis=1).fillna(0)\n",
    "learned_cipher = {\n",
    "    TARGET_ALPHABET[i]: TARGET_ALPHABET[j]\n",
    "    for i, j in zip(*linear_sum_assignment(C, maximize=True))\n",
    "}\n",
    "learned_cipher"
   ]
  },
  {
   "cell_type": "code",
   "execution_count": 26,
   "id": "b8a517f3-29ff-422a-975f-198f396d2fd2",
   "metadata": {},
   "outputs": [
    {
     "data": {
      "text/plain": [
       "'IT HAD LONG SINCE COME TO MY\\nATTENTION THAT PEOPLE OF\\nACCOMPLISHMENT RARELY SAT BACK AND\\nLET THINGS HAPPEN TO THEM THEY JENT\\nOUT AND HAPPENED TO THINGS'"
      ]
     },
     "execution_count": 26,
     "metadata": {},
     "output_type": "execute_result"
    }
   ],
   "source": [
    "CRYPTOGRAM_BASE.translate(str.maketrans(learned_cipher)).strip()"
   ]
  },
  {
   "cell_type": "markdown",
   "id": "b2ae1eb9-07a3-4a8e-b34b-0f0703588d77",
   "metadata": {},
   "source": [
    "## Pretty Print"
   ]
  },
  {
   "cell_type": "code",
   "execution_count": 28,
   "id": "f746e939-75fb-442f-839c-c3f02de47bc3",
   "metadata": {},
   "outputs": [
    {
     "data": {
      "text/html": [
       "<tt>I<font color=\"#FFFFFF\" style=\"background-color:#8696a9; border-radius: 25px; font-weight: bold\">T</font><font color=\"#FFFFFF\" style=\"background-color:#8696a9; border-radius: 25px; font-weight: bold\"> </font><font color=\"#FFFFFF\" style=\"background-color:#8696a9; border-radius: 25px; font-weight: bold\">H</font><font color=\"#FFFFFF\" style=\"background-color:#8696a9; border-radius: 25px; font-weight: bold\">A</font><font color=\"#FFFFFF\" style=\"background-color:#8696a9; border-radius: 25px; font-weight: bold\">D</font><font color=\"#FFFFFF\" style=\"background-color:#8696a9; border-radius: 25px; font-weight: bold\"> </font><font color=\"#FFFFFF\" style=\"background-color:#8696a9; border-radius: 25px; font-weight: bold\">L</font><font color=\"#FFFFFF\" style=\"background-color:#8696a9; border-radius: 25px; font-weight: bold\">O</font>N<font color=\"#FFFFFF\" style=\"background-color:#8696a9; border-radius: 25px; font-weight: bold\">G</font><font color=\"#FFFFFF\" style=\"background-color:#8696a9; border-radius: 25px; font-weight: bold\"> </font><font color=\"#FFFFFF\" style=\"background-color:#8696a9; border-radius: 25px; font-weight: bold\">S</font><font color=\"#FFFFFF\" style=\"background-color:#8696a9; border-radius: 25px; font-weight: bold\">I</font><font color=\"#FFFFFF\" style=\"background-color:#8696a9; border-radius: 25px; font-weight: bold\">N</font><font color=\"#FFFFFF\" style=\"background-color:#8696a9; border-radius: 25px; font-weight: bold\">C</font><font color=\"#FFFFFF\" style=\"background-color:#8696a9; border-radius: 25px; font-weight: bold\">E</font><font color=\"#FFFFFF\" style=\"background-color:#8696a9; border-radius: 25px; font-weight: bold\"> </font><font color=\"#FFFFFF\" style=\"background-color:#8696a9; border-radius: 25px; font-weight: bold\">C</font><font color=\"#FFFFFF\" style=\"background-color:#8696a9; border-radius: 25px; font-weight: bold\">O</font><font color=\"#FFFFFF\" style=\"background-color:#8696a9; border-radius: 25px; font-weight: bold\">M</font><font color=\"#FFFFFF\" style=\"background-color:#8696a9; border-radius: 25px; font-weight: bold\">E</font><font color=\"#FFFFFF\" style=\"background-color:#8696a9; border-radius: 25px; font-weight: bold\"> </font><font color=\"#FFFFFF\" style=\"background-color:#8696a9; border-radius: 25px; font-weight: bold\">T</font><font color=\"#FFFFFF\" style=\"background-color:#8696a9; border-radius: 25px; font-weight: bold\">O</font><font color=\"#FFFFFF\" style=\"background-color:#8696a9; border-radius: 25px; font-weight: bold\"> </font><font color=\"#FFFFFF\" style=\"background-color:#8696a9; border-radius: 25px; font-weight: bold\">M</font>Y<font color=\"#FFFFFF\" style=\"background-color:#8696a9; border-radius: 25px; font-weight: bold\"> </font><font color=\"#FFFFFF\" style=\"background-color:#8696a9; border-radius: 25px; font-weight: bold\">A</font><font color=\"#FFFFFF\" style=\"background-color:#8696a9; border-radius: 25px; font-weight: bold\">T</font><font color=\"#FFFFFF\" style=\"background-color:#8696a9; border-radius: 25px; font-weight: bold\">T</font><font color=\"#FFFFFF\" style=\"background-color:#8696a9; border-radius: 25px; font-weight: bold\">E</font>N<font color=\"#FFFFFF\" style=\"background-color:#8696a9; border-radius: 25px; font-weight: bold\">T</font><font color=\"#FFFFFF\" style=\"background-color:#8696a9; border-radius: 25px; font-weight: bold\">I</font><font color=\"#FFFFFF\" style=\"background-color:#8696a9; border-radius: 25px; font-weight: bold\">O</font><font color=\"#FFFFFF\" style=\"background-color:#8696a9; border-radius: 25px; font-weight: bold\">N</font><font color=\"#FFFFFF\" style=\"background-color:#8696a9; border-radius: 25px; font-weight: bold\"> </font><font color=\"#FFFFFF\" style=\"background-color:#8696a9; border-radius: 25px; font-weight: bold\">T</font><font color=\"#FFFFFF\" style=\"background-color:#8696a9; border-radius: 25px; font-weight: bold\">H</font><font color=\"#FFFFFF\" style=\"background-color:#8696a9; border-radius: 25px; font-weight: bold\">A</font>T<font color=\"#FFFFFF\" style=\"background-color:#8696a9; border-radius: 25px; font-weight: bold\"> </font><font color=\"#FFFFFF\" style=\"background-color:#8696a9; border-radius: 25px; font-weight: bold\">P</font><font color=\"#FFFFFF\" style=\"background-color:#8696a9; border-radius: 25px; font-weight: bold\">E</font><font color=\"#FFFFFF\" style=\"background-color:#8696a9; border-radius: 25px; font-weight: bold\">O</font><font color=\"#FFFFFF\" style=\"background-color:#8696a9; border-radius: 25px; font-weight: bold\">P</font><font color=\"#FFFFFF\" style=\"background-color:#8696a9; border-radius: 25px; font-weight: bold\">L</font><font color=\"#FFFFFF\" style=\"background-color:#8696a9; border-radius: 25px; font-weight: bold\">E</font><font color=\"#FFFFFF\" style=\"background-color:#8696a9; border-radius: 25px; font-weight: bold\"> </font><font color=\"#FFFFFF\" style=\"background-color:#8696a9; border-radius: 25px; font-weight: bold\">O</font><font color=\"#FFFFFF\" style=\"background-color:#8696a9; border-radius: 25px; font-weight: bold\">F</font><font color=\"#FFFFFF\" style=\"background-color:#8696a9; border-radius: 25px; font-weight: bold\"> </font><font color=\"#FFFFFF\" style=\"background-color:#8696a9; border-radius: 25px; font-weight: bold\">A</font><font color=\"#FFFFFF\" style=\"background-color:#8696a9; border-radius: 25px; font-weight: bold\">C</font><font color=\"#FFFFFF\" style=\"background-color:#8696a9; border-radius: 25px; font-weight: bold\">C</font><font color=\"#FFFFFF\" style=\"background-color:#8696a9; border-radius: 25px; font-weight: bold\">O</font><font color=\"#FFFFFF\" style=\"background-color:#8696a9; border-radius: 25px; font-weight: bold\">M</font><font color=\"#FFFFFF\" style=\"background-color:#8696a9; border-radius: 25px; font-weight: bold\">P</font><font color=\"#FFFFFF\" style=\"background-color:#8696a9; border-radius: 25px; font-weight: bold\">L</font><font color=\"#FFFFFF\" style=\"background-color:#8696a9; border-radius: 25px; font-weight: bold\">I</font><font color=\"#FFFFFF\" style=\"background-color:#8696a9; border-radius: 25px; font-weight: bold\">S</font><font color=\"#FFFFFF\" style=\"background-color:#8696a9; border-radius: 25px; font-weight: bold\">H</font><font color=\"#FFFFFF\" style=\"background-color:#8696a9; border-radius: 25px; font-weight: bold\">M</font><font color=\"#FFFFFF\" style=\"background-color:#8696a9; border-radius: 25px; font-weight: bold\">E</font><font color=\"#FFFFFF\" style=\"background-color:#8696a9; border-radius: 25px; font-weight: bold\">N</font><br>I<font color=\"#FFFFFF\" style=\"background-color:#8696a9; border-radius: 25px; font-weight: bold\">'</font><font color=\"#FFFFFF\" style=\"background-color:#8696a9; border-radius: 25px; font-weight: bold\">V</font><font color=\"#FFFFFF\" style=\"background-color:#8696a9; border-radius: 25px; font-weight: bold\">E</font><font color=\"#FFFFFF\" style=\"background-color:#8696a9; border-radius: 25px; font-weight: bold\"> </font><font color=\"#FFFFFF\" style=\"background-color:#8696a9; border-radius: 25px; font-weight: bold\">B</font><font color=\"#FFFFFF\" style=\"background-color:#8696a9; border-radius: 25px; font-weight: bold\">E</font><font color=\"#FFFFFF\" style=\"background-color:#8696a9; border-radius: 25px; font-weight: bold\">G</font><font color=\"#FFFFFF\" style=\"background-color:#8696a9; border-radius: 25px; font-weight: bold\">U</font>N<font color=\"#FFFFFF\" style=\"background-color:#8696a9; border-radius: 25px; font-weight: bold\"> </font><font color=\"#FFFFFF\" style=\"background-color:#8696a9; border-radius: 25px; font-weight: bold\">T</font><font color=\"#FFFFFF\" style=\"background-color:#8696a9; border-radius: 25px; font-weight: bold\">O</font><font color=\"#FFFFFF\" style=\"background-color:#8696a9; border-radius: 25px; font-weight: bold\"> </font><font color=\"#FFFFFF\" style=\"background-color:#8696a9; border-radius: 25px; font-weight: bold\">R</font><font color=\"#FFFFFF\" style=\"background-color:#8696a9; border-radius: 25px; font-weight: bold\">E</font><font color=\"#FFFFFF\" style=\"background-color:#8696a9; border-radius: 25px; font-weight: bold\">A</font><font color=\"#FFFFFF\" style=\"background-color:#8696a9; border-radius: 25px; font-weight: bold\">L</font><font color=\"#FFFFFF\" style=\"background-color:#8696a9; border-radius: 25px; font-weight: bold\">I</font><font color=\"#FFFFFF\" style=\"background-color:#8696a9; border-radius: 25px; font-weight: bold\">Z</font><font color=\"#FFFFFF\" style=\"background-color:#8696a9; border-radius: 25px; font-weight: bold\">E</font><font color=\"#FFFFFF\" style=\"background-color:#8696a9; border-radius: 25px; font-weight: bold\"> </font><font color=\"#FFFFFF\" style=\"background-color:#8696a9; border-radius: 25px; font-weight: bold\">T</font><font color=\"#FFFFFF\" style=\"background-color:#8696a9; border-radius: 25px; font-weight: bold\">H</font><font color=\"#FFFFFF\" style=\"background-color:#8696a9; border-radius: 25px; font-weight: bold\">A</font><font color=\"#FFFFFF\" style=\"background-color:#8696a9; border-radius: 25px; font-weight: bold\">T</font><font color=\"#FFFFFF\" style=\"background-color:#8696a9; border-radius: 25px; font-weight: bold\"> </font>Y<font color=\"#FFFFFF\" style=\"background-color:#8696a9; border-radius: 25px; font-weight: bold\">O</font><font color=\"#FFFFFF\" style=\"background-color:#8696a9; border-radius: 25px; font-weight: bold\">U</font><font color=\"#FFFFFF\" style=\"background-color:#8696a9; border-radius: 25px; font-weight: bold\"> </font><font color=\"#FFFFFF\" style=\"background-color:#8696a9; border-radius: 25px; font-weight: bold\">C</font><font color=\"#FFFFFF\" style=\"background-color:#8696a9; border-radius: 25px; font-weight: bold\">A</font>N<font color=\"#FFFFFF\" style=\"background-color:#8696a9; border-radius: 25px; font-weight: bold\"> </font><font color=\"#FFFFFF\" style=\"background-color:#8696a9; border-radius: 25px; font-weight: bold\">L</font><font color=\"#FFFFFF\" style=\"background-color:#8696a9; border-radius: 25px; font-weight: bold\">I</font><font color=\"#FFFFFF\" style=\"background-color:#8696a9; border-radius: 25px; font-weight: bold\">S</font><font color=\"#FFFFFF\" style=\"background-color:#8696a9; border-radius: 25px; font-weight: bold\">T</font><font color=\"#FFFFFF\" style=\"background-color:#8696a9; border-radius: 25px; font-weight: bold\">E</font><font color=\"#FFFFFF\" style=\"background-color:#8696a9; border-radius: 25px; font-weight: bold\">N</font><font color=\"#FFFFFF\" style=\"background-color:#8696a9; border-radius: 25px; font-weight: bold\"> </font>T<font color=\"#FFFFFF\" style=\"background-color:#8696a9; border-radius: 25px; font-weight: bold\">O</font><font color=\"#FFFFFF\" style=\"background-color:#8696a9; border-radius: 25px; font-weight: bold\"> </font><font color=\"#FFFFFF\" style=\"background-color:#8696a9; border-radius: 25px; font-weight: bold\">S</font><font color=\"#FFFFFF\" style=\"background-color:#8696a9; border-radius: 25px; font-weight: bold\">I</font><font color=\"#FFFFFF\" style=\"background-color:#8696a9; border-radius: 25px; font-weight: bold\">L</font><font color=\"#FFFFFF\" style=\"background-color:#8696a9; border-radius: 25px; font-weight: bold\">E</font><font color=\"#FFFFFF\" style=\"background-color:#8696a9; border-radius: 25px; font-weight: bold\">N</font><font color=\"#FFFFFF\" style=\"background-color:#8696a9; border-radius: 25px; font-weight: bold\">C</font><font color=\"#FFFFFF\" style=\"background-color:#8696a9; border-radius: 25px; font-weight: bold\">E</font><font color=\"#FFFFFF\" style=\"background-color:#8696a9; border-radius: 25px; font-weight: bold\"> </font><font color=\"#FFFFFF\" style=\"background-color:#8696a9; border-radius: 25px; font-weight: bold\">A</font><font color=\"#FFFFFF\" style=\"background-color:#8696a9; border-radius: 25px; font-weight: bold\">N</font><font color=\"#FFFFFF\" style=\"background-color:#8696a9; border-radius: 25px; font-weight: bold\">D</font><font color=\"#FFFFFF\" style=\"background-color:#8696a9; border-radius: 25px; font-weight: bold\"> </font><font color=\"#FFFFFF\" style=\"background-color:#8696a9; border-radius: 25px; font-weight: bold\">L</font><font color=\"#FFFFFF\" style=\"background-color:#8696a9; border-radius: 25px; font-weight: bold\">E</font><font color=\"#FFFFFF\" style=\"background-color:#8696a9; border-radius: 25px; font-weight: bold\">A</font><font color=\"#FFFFFF\" style=\"background-color:#8696a9; border-radius: 25px; font-weight: bold\">R</font><font color=\"#FFFFFF\" style=\"background-color:#8696a9; border-radius: 25px; font-weight: bold\">N</font><font color=\"#FFFFFF\" style=\"background-color:#8696a9; border-radius: 25px; font-weight: bold\"> </font><font color=\"#FFFFFF\" style=\"background-color:#8696a9; border-radius: 25px; font-weight: bold\">F</font><font color=\"#FFFFFF\" style=\"background-color:#8696a9; border-radius: 25px; font-weight: bold\">R</font><font color=\"#FFFFFF\" style=\"background-color:#8696a9; border-radius: 25px; font-weight: bold\">O</font><font color=\"#FFFFFF\" style=\"background-color:#8696a9; border-radius: 25px; font-weight: bold\">M</font><br><br><br><font color=\"#FFFFFF\" style=\"background-color:#8696a9; border-radius: 25px; font-weight: bold\">R</font><font color=\"#FFFFFF\" style=\"background-color:#8696a9; border-radius: 25px; font-weight: bold\">A</font><font color=\"#FFFFFF\" style=\"background-color:#8696a9; border-radius: 25px; font-weight: bold\">R</font><font color=\"#FFFFFF\" style=\"background-color:#8696a9; border-radius: 25px; font-weight: bold\">E</font><font color=\"#FFFFFF\" style=\"background-color:#8696a9; border-radius: 25px; font-weight: bold\">L</font><font color=\"#FFFFFF\" style=\"background-color:#8696a9; border-radius: 25px; font-weight: bold\">Y</font> <font color=\"#FFFFFF\" style=\"background-color:#8696a9; border-radius: 25px; font-weight: bold\">S</font>A<font color=\"#FFFFFF\" style=\"background-color:#8696a9; border-radius: 25px; font-weight: bold\">T</font> <font color=\"#FFFFFF\" style=\"background-color:#8696a9; border-radius: 25px; font-weight: bold\">B</font><font color=\"#FFFFFF\" style=\"background-color:#8696a9; border-radius: 25px; font-weight: bold\">A</font><font color=\"#FFFFFF\" style=\"background-color:#8696a9; border-radius: 25px; font-weight: bold\">C</font><font color=\"#FFFFFF\" style=\"background-color:#8696a9; border-radius: 25px; font-weight: bold\">K</font><font color=\"#FFFFFF\" style=\"background-color:#8696a9; border-radius: 25px; font-weight: bold\"> </font><font color=\"#FFFFFF\" style=\"background-color:#8696a9; border-radius: 25px; font-weight: bold\">A</font><font color=\"#FFFFFF\" style=\"background-color:#8696a9; border-radius: 25px; font-weight: bold\">N</font><font color=\"#FFFFFF\" style=\"background-color:#8696a9; border-radius: 25px; font-weight: bold\">D</font><font color=\"#FFFFFF\" style=\"background-color:#8696a9; border-radius: 25px; font-weight: bold\"> </font><font color=\"#FFFFFF\" style=\"background-color:#8696a9; border-radius: 25px; font-weight: bold\">L</font><font color=\"#FFFFFF\" style=\"background-color:#8696a9; border-radius: 25px; font-weight: bold\">E</font><font color=\"#FFFFFF\" style=\"background-color:#8696a9; border-radius: 25px; font-weight: bold\">T</font><font color=\"#FFFFFF\" style=\"background-color:#8696a9; border-radius: 25px; font-weight: bold\"> </font><font color=\"#FFFFFF\" style=\"background-color:#8696a9; border-radius: 25px; font-weight: bold\">T</font><font color=\"#FFFFFF\" style=\"background-color:#8696a9; border-radius: 25px; font-weight: bold\">H</font><font color=\"#FFFFFF\" style=\"background-color:#8696a9; border-radius: 25px; font-weight: bold\">I</font><font color=\"#FFFFFF\" style=\"background-color:#8696a9; border-radius: 25px; font-weight: bold\">N</font><font color=\"#FFFFFF\" style=\"background-color:#8696a9; border-radius: 25px; font-weight: bold\">G</font><font color=\"#FFFFFF\" style=\"background-color:#8696a9; border-radius: 25px; font-weight: bold\">S</font><font color=\"#FFFFFF\" style=\"background-color:#8696a9; border-radius: 25px; font-weight: bold\"> </font><font color=\"#FFFFFF\" style=\"background-color:#8696a9; border-radius: 25px; font-weight: bold\">H</font><font color=\"#FFFFFF\" style=\"background-color:#8696a9; border-radius: 25px; font-weight: bold\">A</font><font color=\"#FFFFFF\" style=\"background-color:#8696a9; border-radius: 25px; font-weight: bold\">P</font><font color=\"#FFFFFF\" style=\"background-color:#8696a9; border-radius: 25px; font-weight: bold\">P</font><font color=\"#FFFFFF\" style=\"background-color:#8696a9; border-radius: 25px; font-weight: bold\">E</font><font color=\"#FFFFFF\" style=\"background-color:#8696a9; border-radius: 25px; font-weight: bold\">N</font><font color=\"#FFFFFF\" style=\"background-color:#8696a9; border-radius: 25px; font-weight: bold\"> </font><font color=\"#FFFFFF\" style=\"background-color:#8696a9; border-radius: 25px; font-weight: bold\">T</font><font color=\"#FFFFFF\" style=\"background-color:#8696a9; border-radius: 25px; font-weight: bold\">O</font> <font color=\"#FFFFFF\" style=\"background-color:#8696a9; border-radius: 25px; font-weight: bold\">T</font><font color=\"#FFFFFF\" style=\"background-color:#8696a9; border-radius: 25px; font-weight: bold\">H</font><font color=\"#FFFFFF\" style=\"background-color:#8696a9; border-radius: 25px; font-weight: bold\">E</font><font color=\"#FFFFFF\" style=\"background-color:#8696a9; border-radius: 25px; font-weight: bold\">M</font><font color=\"#FFFFFF\" style=\"background-color:#8696a9; border-radius: 25px; font-weight: bold\"> </font><font color=\"#FFFFFF\" style=\"background-color:#8696a9; border-radius: 25px; font-weight: bold\">T</font><font color=\"#FFFFFF\" style=\"background-color:#8696a9; border-radius: 25px; font-weight: bold\">H</font><br><font color=\"#FFFFFF\" style=\"background-color:#8696a9; border-radius: 25px; font-weight: bold\">I</font><font color=\"#FFFFFF\" style=\"background-color:#8696a9; border-radius: 25px; font-weight: bold\">T</font><font color=\"#FFFFFF\" style=\"background-color:#8696a9; border-radius: 25px; font-weight: bold\">.</font><font color=\"#FFFFFF\" style=\"background-color:#8696a9; border-radius: 25px; font-weight: bold\"> </font><font color=\"#FFFFFF\" style=\"background-color:#8696a9; border-radius: 25px; font-weight: bold\">I</font><font color=\"#FFFFFF\" style=\"background-color:#8696a9; border-radius: 25px; font-weight: bold\">T</font> <font color=\"#FFFFFF\" style=\"background-color:#8696a9; border-radius: 25px; font-weight: bold\">H</font>A<font color=\"#FFFFFF\" style=\"background-color:#8696a9; border-radius: 25px; font-weight: bold\">S</font> <font color=\"#FFFFFF\" style=\"background-color:#8696a9; border-radius: 25px; font-weight: bold\">A</font><font color=\"#FFFFFF\" style=\"background-color:#8696a9; border-radius: 25px; font-weight: bold\"> </font><font color=\"#FFFFFF\" style=\"background-color:#8696a9; border-radius: 25px; font-weight: bold\">Q</font><font color=\"#FFFFFF\" style=\"background-color:#8696a9; border-radius: 25px; font-weight: bold\">U</font><font color=\"#FFFFFF\" style=\"background-color:#8696a9; border-radius: 25px; font-weight: bold\">A</font><font color=\"#FFFFFF\" style=\"background-color:#8696a9; border-radius: 25px; font-weight: bold\">L</font><font color=\"#FFFFFF\" style=\"background-color:#8696a9; border-radius: 25px; font-weight: bold\">I</font><font color=\"#FFFFFF\" style=\"background-color:#8696a9; border-radius: 25px; font-weight: bold\">T</font><font color=\"#FFFFFF\" style=\"background-color:#8696a9; border-radius: 25px; font-weight: bold\">Y</font><font color=\"#FFFFFF\" style=\"background-color:#8696a9; border-radius: 25px; font-weight: bold\"> </font><font color=\"#FFFFFF\" style=\"background-color:#8696a9; border-radius: 25px; font-weight: bold\">A</font><font color=\"#FFFFFF\" style=\"background-color:#8696a9; border-radius: 25px; font-weight: bold\">N</font><font color=\"#FFFFFF\" style=\"background-color:#8696a9; border-radius: 25px; font-weight: bold\">D</font><font color=\"#FFFFFF\" style=\"background-color:#8696a9; border-radius: 25px; font-weight: bold\"> </font><font color=\"#FFFFFF\" style=\"background-color:#8696a9; border-radius: 25px; font-weight: bold\">A</font><font color=\"#FFFFFF\" style=\"background-color:#8696a9; border-radius: 25px; font-weight: bold\"> </font><font color=\"#FFFFFF\" style=\"background-color:#8696a9; border-radius: 25px; font-weight: bold\">D</font><font color=\"#FFFFFF\" style=\"background-color:#8696a9; border-radius: 25px; font-weight: bold\">I</font><font color=\"#FFFFFF\" style=\"background-color:#8696a9; border-radius: 25px; font-weight: bold\">M</font><font color=\"#FFFFFF\" style=\"background-color:#8696a9; border-radius: 25px; font-weight: bold\">E</font><font color=\"#FFFFFF\" style=\"background-color:#8696a9; border-radius: 25px; font-weight: bold\">N</font><font color=\"#FFFFFF\" style=\"background-color:#8696a9; border-radius: 25px; font-weight: bold\">S</font><font color=\"#FFFFFF\" style=\"background-color:#8696a9; border-radius: 25px; font-weight: bold\">I</font><font color=\"#FFFFFF\" style=\"background-color:#8696a9; border-radius: 25px; font-weight: bold\">O</font><font color=\"#FFFFFF\" style=\"background-color:#8696a9; border-radius: 25px; font-weight: bold\">N</font><font color=\"#FFFFFF\" style=\"background-color:#8696a9; border-radius: 25px; font-weight: bold\"> </font><font color=\"#FFFFFF\" style=\"background-color:#8696a9; border-radius: 25px; font-weight: bold\">A</font><font color=\"#FFFFFF\" style=\"background-color:#8696a9; border-radius: 25px; font-weight: bold\">L</font><font color=\"#FFFFFF\" style=\"background-color:#8696a9; border-radius: 25px; font-weight: bold\">L</font> <font color=\"#FFFFFF\" style=\"background-color:#8696a9; border-radius: 25px; font-weight: bold\">I</font><font color=\"#FFFFFF\" style=\"background-color:#8696a9; border-radius: 25px; font-weight: bold\">T</font><font color=\"#FFFFFF\" style=\"background-color:#8696a9; border-radius: 25px; font-weight: bold\">S</font><font color=\"#FFFFFF\" style=\"background-color:#8696a9; border-radius: 25px; font-weight: bold\"> </font><font color=\"#FFFFFF\" style=\"background-color:#8696a9; border-radius: 25px; font-weight: bold\">O</font><font color=\"#FFFFFF\" style=\"background-color:#8696a9; border-radius: 25px; font-weight: bold\">W</font><font color=\"#FFFFFF\" style=\"background-color:#8696a9; border-radius: 25px; font-weight: bold\">N</font><br><br></tt>"
      ],
      "text/plain": [
       "<IPython.core.display.HTML object>"
      ]
     },
     "metadata": {},
     "output_type": "display_data"
    }
   ],
   "source": [
    "import textwrap\n",
    "\n",
    "from IPython.display import HTML\n",
    "from jinja2 import Template\n",
    "\n",
    "\n",
    "def p(actual, solution):\n",
    "    out = []\n",
    "    lines_actual = textwrap.wrap(' '.join(actual.split()))\n",
    "    lines_solution = textwrap.wrap(' '.join(solution.split()))\n",
    "    for L1, L2 in zip(lines_actual, lines_solution):\n",
    "        out.append(compare_lines(L1, L2))\n",
    "        out.append(compare_lines(L2, L1))\n",
    "        out.append('<br>')\n",
    "    return '<tt>' + '<br>'.join(out) + '</tt>'\n",
    "\n",
    "def compare_lines(L1, L2):\n",
    "    return ''.join(\n",
    "        ''.join(c2 if c1 == c2 else highlight(c2) for c1, c2 in zip(w1, w2))\n",
    "        for w1, w2 in zip(L1, L2)\n",
    "    )\n",
    "\n",
    "def highlight(s):\n",
    "    return f'<font color=\"#FFFFFF\" style=\"background-color:#8696a9; border-radius: 25px; font-weight: bold\">{s}</font>'\n",
    "\n",
    "display(\n",
    "    HTML(\n",
    "        p(\n",
    "            \"I'VE BEGUN TO REALIZE THAT YOU CAN LISTEN TO SILENCE AND LEARN FROM IT. IT HAS A QUALITY AND A DIMENSION ALL ITS OWN\",\n",
    "            CRYPTOGRAM_BASE.translate(str.maketrans(learned_cipher)).strip()\n",
    "        )\n",
    "    )\n",
    ")"
   ]
  }
 ],
 "metadata": {
  "kernelspec": {
   "display_name": "default",
   "language": "python",
   "name": "default"
  },
  "language_info": {
   "codemirror_mode": {
    "name": "ipython",
    "version": 3
   },
   "file_extension": ".py",
   "mimetype": "text/x-python",
   "name": "python",
   "nbconvert_exporter": "python",
   "pygments_lexer": "ipython3",
   "version": "3.9.17"
  }
 },
 "nbformat": 4,
 "nbformat_minor": 5
}
