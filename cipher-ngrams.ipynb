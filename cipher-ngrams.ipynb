{
 "cells": [
  {
   "cell_type": "markdown",
   "id": "cc2f88bb-fba0-4b1f-abf0-2b22b8218a32",
   "metadata": {},
   "source": [
    "TODO: learned vocab should only be over the vocab in the cipher. in other words\n",
    "X should be `n words x n letters x n cipher vocab` and $\\pi$ should be \n",
    "`n cipher vocab x n vocab"
   ]
  },
  {
   "cell_type": "code",
   "execution_count": 1,
   "id": "96ac193a-41ce-4842-ae4e-3d4148724560",
   "metadata": {},
   "outputs": [],
   "source": [
    "# https://www.math.uci.edu/~jxin/AutoShuffleNet_KDD2020F.pdf"
   ]
  },
  {
   "cell_type": "code",
   "execution_count": 2,
   "id": "21a0b415-5e62-4c4b-89b6-097b6da9b676",
   "metadata": {},
   "outputs": [],
   "source": [
    "import string\n",
    "import numpy as np\n",
    "\n",
    "CRYPTOGRAM = '''\n",
    "I'm parting the sea between brightness and me\n",
    "Before I drown myself and everyone and everything\n",
    "\n",
    "I got my hands behind my back\n",
    "With two fingers overlapped\n",
    "Because I can never keep my word\n",
    "And I share with the undeserved\n",
    "For some cheap acceptance in return\n",
    "The water will shape the sides\n",
    "And I'll walk with my head held high\n",
    "And when it all comes crashing in\n",
    "It will be worth it, if I'm still breathing\n",
    "\n",
    "If actions speak louder than words\n",
    "I'm the most deafening noise you've heard\n",
    "I'll be that ringing in your ears\n",
    "That will stick around for years\n",
    "'''.translate(str.maketrans({k: '' for k in string.punctuation+'“”—’'})).upper()\n",
    "\n",
    "mapping = {\n",
    "    a: b\n",
    "    for a, b in zip(string.ascii_uppercase, sorted(string.ascii_uppercase, key=lambda _: np.random.rand()))\n",
    "}\n",
    "CRYPTOGRAM = CRYPTOGRAM.translate(str.maketrans(mapping)).upper().split()\n",
    "CRYPTOGRAM = [\n",
    "    w1 + ' ' + w2\n",
    "    for w1, w2 in zip(CRYPTOGRAM[:-1], CRYPTOGRAM[1:])\n",
    "]"
   ]
  },
  {
   "cell_type": "code",
   "execution_count": 3,
   "id": "d4603db1-53d5-49e8-b2aa-f53104ce52cd",
   "metadata": {},
   "outputs": [
    {
     "data": {
      "text/plain": [
       "['KT VOFIKQD',\n",
       " 'VOFIKQD IRJ',\n",
       " 'IRJ EJO',\n",
       " 'EJO PJIMJJQ',\n",
       " 'PJIMJJQ PFKDRIQJEE',\n",
       " 'PFKDRIQJEE OQC',\n",
       " 'OQC TJ',\n",
       " 'TJ PJGBFJ',\n",
       " 'PJGBFJ K',\n",
       " 'K CFBMQ',\n",
       " 'CFBMQ TYEJZG',\n",
       " 'TYEJZG OQC',\n",
       " 'OQC JUJFYBQJ',\n",
       " 'JUJFYBQJ OQC',\n",
       " 'OQC JUJFYIRKQD',\n",
       " 'JUJFYIRKQD K',\n",
       " 'K DBI',\n",
       " 'DBI TY',\n",
       " 'TY ROQCE',\n",
       " 'ROQCE PJRKQC',\n",
       " 'PJRKQC TY',\n",
       " 'TY PONW',\n",
       " 'PONW MKIR',\n",
       " 'MKIR IMB',\n",
       " 'IMB GKQDJFE',\n",
       " 'GKQDJFE BUJFZOVVJC',\n",
       " 'BUJFZOVVJC PJNOHEJ',\n",
       " 'PJNOHEJ K',\n",
       " 'K NOQ',\n",
       " 'NOQ QJUJF',\n",
       " 'QJUJF WJJV',\n",
       " 'WJJV TY',\n",
       " 'TY MBFC',\n",
       " 'MBFC OQC',\n",
       " 'OQC K',\n",
       " 'K EROFJ',\n",
       " 'EROFJ MKIR',\n",
       " 'MKIR IRJ',\n",
       " 'IRJ HQCJEJFUJC',\n",
       " 'HQCJEJFUJC GBF',\n",
       " 'GBF EBTJ',\n",
       " 'EBTJ NRJOV',\n",
       " 'NRJOV ONNJVIOQNJ',\n",
       " 'ONNJVIOQNJ KQ',\n",
       " 'KQ FJIHFQ',\n",
       " 'FJIHFQ IRJ',\n",
       " 'IRJ MOIJF',\n",
       " 'MOIJF MKZZ',\n",
       " 'MKZZ EROVJ',\n",
       " 'EROVJ IRJ',\n",
       " 'IRJ EKCJE',\n",
       " 'EKCJE OQC',\n",
       " 'OQC KZZ',\n",
       " 'KZZ MOZW',\n",
       " 'MOZW MKIR',\n",
       " 'MKIR TY',\n",
       " 'TY RJOC',\n",
       " 'RJOC RJZC',\n",
       " 'RJZC RKDR',\n",
       " 'RKDR OQC',\n",
       " 'OQC MRJQ',\n",
       " 'MRJQ KI',\n",
       " 'KI OZZ',\n",
       " 'OZZ NBTJE',\n",
       " 'NBTJE NFOERKQD',\n",
       " 'NFOERKQD KQ',\n",
       " 'KQ KI',\n",
       " 'KI MKZZ',\n",
       " 'MKZZ PJ',\n",
       " 'PJ MBFIR',\n",
       " 'MBFIR KI',\n",
       " 'KI KG',\n",
       " 'KG KT',\n",
       " 'KT EIKZZ',\n",
       " 'EIKZZ PFJOIRKQD',\n",
       " 'PFJOIRKQD KG',\n",
       " 'KG ONIKBQE',\n",
       " 'ONIKBQE EVJOW',\n",
       " 'EVJOW ZBHCJF',\n",
       " 'ZBHCJF IROQ',\n",
       " 'IROQ MBFCE',\n",
       " 'MBFCE KT',\n",
       " 'KT IRJ',\n",
       " 'IRJ TBEI',\n",
       " 'TBEI CJOGJQKQD',\n",
       " 'CJOGJQKQD QBKEJ',\n",
       " 'QBKEJ YBHUJ',\n",
       " 'YBHUJ RJOFC',\n",
       " 'RJOFC KZZ',\n",
       " 'KZZ PJ',\n",
       " 'PJ IROI',\n",
       " 'IROI FKQDKQD',\n",
       " 'FKQDKQD KQ',\n",
       " 'KQ YBHF',\n",
       " 'YBHF JOFE',\n",
       " 'JOFE IROI',\n",
       " 'IROI MKZZ',\n",
       " 'MKZZ EIKNW',\n",
       " 'EIKNW OFBHQC',\n",
       " 'OFBHQC GBF',\n",
       " 'GBF YJOFE']"
      ]
     },
     "execution_count": 3,
     "metadata": {},
     "output_type": "execute_result"
    }
   ],
   "source": [
    "CRYPTOGRAM"
   ]
  },
  {
   "cell_type": "code",
   "execution_count": 4,
   "id": "da68507f-fa85-4da8-968f-214985a3bb52",
   "metadata": {},
   "outputs": [],
   "source": [
    "CRYPTOGRAM = '''\n",
    "ED KFT JPRN UERVB VPYB DP YC\n",
    "FDDBRDEPR DKFD IBPIJB PA\n",
    "FVVPYIJEUKYBRD OFOBJC UFD QFVX FRT\n",
    "JBD DKERNU KFIIBR DP DKBY DKBC LBRD\n",
    "PHD FRT KFIIBRBT DP DKERNU\n",
    "'''.upper().split()\n",
    "\n",
    "CRYPTOGRAM = [\n",
    "    w1 + ' ' + w2\n",
    "    for w1, w2 in zip(CRYPTOGRAM[:-1], CRYPTOGRAM[1:])\n",
    "]"
   ]
  },
  {
   "cell_type": "code",
   "execution_count": 5,
   "id": "3ecbe484-4420-45b2-8b88-407aa751a9aa",
   "metadata": {},
   "outputs": [],
   "source": [
    "import string\n",
    "\n",
    "CRYPTOGRAM = '''\n",
    "DCXG L MYXG QCXZ, ZMNQ MO QCX VMMFN\n",
    "CJUX QCX NZXRR MO JG XJWRLXW QLZX\n",
    "RXJFLGE MKQ VXQDXXG QCX YJEXN - J\n",
    "NYXALJR MPMW MO QCX FGMDRXPEX JGP\n",
    "XZMQLMGN QCJQ OMW JEXN CJUX VXXG\n",
    "AJRZRT WXNQLGE VXQDXXG QCX AMUXWN.\n",
    "VWXJQCLGE LQ LG, L ERJGAX QCWMKEC J\n",
    "OXD YJEXN VXOMWX WXQKWGLGE XJAC VMMF\n",
    "QM LQN NCXRO.\n",
    "'''.translate(str.maketrans({s: '' for s in string.punctuation})).upper().split()\n",
    "\n",
    "CRYPTOGRAM = [\n",
    "    w1 + ' ' + w2\n",
    "    for w1, w2 in zip(CRYPTOGRAM[:-1], CRYPTOGRAM[1:])\n",
    "]"
   ]
  },
  {
   "cell_type": "code",
   "execution_count": 6,
   "id": "ff8a62a8-da5d-4b69-b047-8e3bfcc47dad",
   "metadata": {},
   "outputs": [
    {
     "data": {
      "text/plain": [
       "['DCXG L',\n",
       " 'L MYXG',\n",
       " 'MYXG QCXZ',\n",
       " 'QCXZ ZMNQ',\n",
       " 'ZMNQ MO',\n",
       " 'MO QCX',\n",
       " 'QCX VMMFN',\n",
       " 'VMMFN CJUX',\n",
       " 'CJUX QCX',\n",
       " 'QCX NZXRR',\n",
       " 'NZXRR MO',\n",
       " 'MO JG',\n",
       " 'JG XJWRLXW',\n",
       " 'XJWRLXW QLZX',\n",
       " 'QLZX RXJFLGE',\n",
       " 'RXJFLGE MKQ',\n",
       " 'MKQ VXQDXXG',\n",
       " 'VXQDXXG QCX',\n",
       " 'QCX YJEXN',\n",
       " 'YJEXN J',\n",
       " 'J NYXALJR',\n",
       " 'NYXALJR MPMW',\n",
       " 'MPMW MO',\n",
       " 'MO QCX',\n",
       " 'QCX FGMDRXPEX',\n",
       " 'FGMDRXPEX JGP',\n",
       " 'JGP XZMQLMGN',\n",
       " 'XZMQLMGN QCJQ',\n",
       " 'QCJQ OMW',\n",
       " 'OMW JEXN',\n",
       " 'JEXN CJUX',\n",
       " 'CJUX VXXG',\n",
       " 'VXXG AJRZRT',\n",
       " 'AJRZRT WXNQLGE',\n",
       " 'WXNQLGE VXQDXXG',\n",
       " 'VXQDXXG QCX',\n",
       " 'QCX AMUXWN',\n",
       " 'AMUXWN VWXJQCLGE',\n",
       " 'VWXJQCLGE LQ',\n",
       " 'LQ LG',\n",
       " 'LG L',\n",
       " 'L ERJGAX',\n",
       " 'ERJGAX QCWMKEC',\n",
       " 'QCWMKEC J',\n",
       " 'J OXD',\n",
       " 'OXD YJEXN',\n",
       " 'YJEXN VXOMWX',\n",
       " 'VXOMWX WXQKWGLGE',\n",
       " 'WXQKWGLGE XJAC',\n",
       " 'XJAC VMMF',\n",
       " 'VMMF QM',\n",
       " 'QM LQN',\n",
       " 'LQN NCXRO']"
      ]
     },
     "execution_count": 6,
     "metadata": {},
     "output_type": "execute_result"
    }
   ],
   "source": [
    "CRYPTOGRAM"
   ]
  },
  {
   "cell_type": "code",
   "execution_count": 7,
   "id": "308b3ab0-7398-4a39-a24b-d54ddf34b0b7",
   "metadata": {},
   "outputs": [
    {
     "data": {
      "text/plain": [
       "[(0, 1, 2, 3, 4, 5),\n",
       " (0, 1, 2, 3, 4, 5, 6, 6),\n",
       " (0, 1, 2, 3, 4, 5, 5, 6, 7),\n",
       " (0, 1, 2, 3, 4, 5, 6, 7, 7, 8),\n",
       " (0, 1, 2, 3, 4, 5, 6, 7, 7, 8, 9, 10)]"
      ]
     },
     "execution_count": 7,
     "metadata": {},
     "output_type": "execute_result"
    }
   ],
   "source": [
    "from collections import defaultdict\n",
    "\n",
    "def word_group(w):\n",
    "    return tuple([\n",
    "        len(set(w[:i]))\n",
    "        for\n",
    "        i in range(len(w))\n",
    "    ])\n",
    "\n",
    "search_space = set()\n",
    "for word in CRYPTOGRAM:\n",
    "    search_space.add(word_group(word))\n",
    "list(search_space)[:5]"
   ]
  },
  {
   "cell_type": "code",
   "execution_count": 8,
   "id": "8b168d5c-dda5-4084-bf4b-5bd0a406dc7e",
   "metadata": {},
   "outputs": [
    {
     "data": {
      "text/plain": [
       "(23, 27)"
      ]
     },
     "execution_count": 8,
     "metadata": {},
     "output_type": "execute_result"
    }
   ],
   "source": [
    "import string\n",
    "from cryptogram import vectorize_text\n",
    "\n",
    "CRYPTOGRAM_ALPHABET = ''.join(sorted(set(''.join(CRYPTOGRAM) + ' ')))\n",
    "TARGET_ALPHABET = string.ascii_uppercase + ' '\n",
    "len(CRYPTOGRAM_ALPHABET), len(TARGET_ALPHABET)"
   ]
  },
  {
   "cell_type": "markdown",
   "id": "d03d1d73-df3b-49e8-88aa-c52b29cefa24",
   "metadata": {},
   "source": [
    "# frequencies"
   ]
  },
  {
   "cell_type": "code",
   "execution_count": 9,
   "id": "942efb02-1a58-441d-b79e-1e74c344fdec",
   "metadata": {},
   "outputs": [
    {
     "data": {
      "text/plain": [
       "(1495144, 3)"
      ]
     },
     "execution_count": 9,
     "metadata": {},
     "output_type": "execute_result"
    }
   ],
   "source": [
    "import glob\n",
    "import pandas as pd\n",
    "\n",
    "def load_ngrams(f):\n",
    "    df = pd.read_csv(f)\n",
    "    df['word_group'] = df.ngram.str.strip().apply(word_group)\n",
    "    return df[df.word_group.apply(search_space.__contains__)]\n",
    "\n",
    "frequencies = pd.concat((load_ngrams(f) for f in glob.glob('ngrams/*-clean.csv.gz')))\n",
    "frequencies.shape"
   ]
  },
  {
   "cell_type": "code",
   "execution_count": 10,
   "id": "41e22e46-ef3b-43cd-b978-cc9f26c4db3d",
   "metadata": {},
   "outputs": [
    {
     "data": {
      "text/html": [
       "<div>\n",
       "<style scoped>\n",
       "    .dataframe tbody tr th:only-of-type {\n",
       "        vertical-align: middle;\n",
       "    }\n",
       "\n",
       "    .dataframe tbody tr th {\n",
       "        vertical-align: top;\n",
       "    }\n",
       "\n",
       "    .dataframe thead th {\n",
       "        text-align: right;\n",
       "    }\n",
       "</style>\n",
       "<table border=\"1\" class=\"dataframe\">\n",
       "  <thead>\n",
       "    <tr style=\"text-align: right;\">\n",
       "      <th></th>\n",
       "      <th>ngram</th>\n",
       "      <th>occurrences</th>\n",
       "      <th>word_group</th>\n",
       "    </tr>\n",
       "  </thead>\n",
       "  <tbody>\n",
       "    <tr>\n",
       "      <th>10</th>\n",
       "      <td>AB Astra</td>\n",
       "      <td>2</td>\n",
       "      <td>(0, 1, 2, 3, 3, 4, 5, 6)</td>\n",
       "    </tr>\n",
       "    <tr>\n",
       "      <th>11</th>\n",
       "      <td>AB Canada</td>\n",
       "      <td>59</td>\n",
       "      <td>(0, 1, 2, 3, 4, 5, 6, 6, 7)</td>\n",
       "    </tr>\n",
       "    <tr>\n",
       "      <th>15</th>\n",
       "      <td>AB drawn</td>\n",
       "      <td>3</td>\n",
       "      <td>(0, 1, 2, 3, 4, 5, 6, 7)</td>\n",
       "    </tr>\n",
       "    <tr>\n",
       "      <th>16</th>\n",
       "      <td>ABA may</td>\n",
       "      <td>20</td>\n",
       "      <td>(0, 1, 2, 2, 3, 4, 5)</td>\n",
       "    </tr>\n",
       "    <tr>\n",
       "      <th>18</th>\n",
       "      <td>ABC a</td>\n",
       "      <td>21</td>\n",
       "      <td>(0, 1, 2, 3, 4)</td>\n",
       "    </tr>\n",
       "  </tbody>\n",
       "</table>\n",
       "</div>"
      ],
      "text/plain": [
       "        ngram  occurrences                   word_group\n",
       "10   AB Astra            2     (0, 1, 2, 3, 3, 4, 5, 6)\n",
       "11  AB Canada           59  (0, 1, 2, 3, 4, 5, 6, 6, 7)\n",
       "15   AB drawn            3     (0, 1, 2, 3, 4, 5, 6, 7)\n",
       "16    ABA may           20        (0, 1, 2, 2, 3, 4, 5)\n",
       "18      ABC a           21              (0, 1, 2, 3, 4)"
      ]
     },
     "execution_count": 10,
     "metadata": {},
     "output_type": "execute_result"
    }
   ],
   "source": [
    "frequencies.head()"
   ]
  },
  {
   "cell_type": "code",
   "execution_count": 11,
   "id": "46e99ff7-e374-4a44-b1c9-97e453d2cea7",
   "metadata": {},
   "outputs": [
    {
     "data": {
      "text/plain": [
       "(157103, 3)"
      ]
     },
     "execution_count": 11,
     "metadata": {},
     "output_type": "execute_result"
    }
   ],
   "source": [
    "frequencies = frequencies[frequencies.occurrences.gt(100)]\n",
    "frequencies.shape"
   ]
  },
  {
   "cell_type": "code",
   "execution_count": 12,
   "id": "dad1a29f-70fe-4454-9206-79ec9c3a4245",
   "metadata": {},
   "outputs": [],
   "source": [
    "frequencies['word'] = frequencies.ngram.str.strip().str.upper()\n",
    "frequencies['log_likelihood'] = (\n",
    "    np.log10(frequencies.occurrences)\n",
    "    # TODO: should also group by length of word and/or space index\n",
    "    - np.log10(frequencies.word_group.map(frequencies.groupby('word_group').occurrences.sum()))\n",
    ")"
   ]
  },
  {
   "cell_type": "code",
   "execution_count": 13,
   "id": "02619bb6-4f0e-4416-9f49-0a22acbb7eef",
   "metadata": {},
   "outputs": [
    {
     "data": {
      "text/plain": [
       "<Axes: >"
      ]
     },
     "execution_count": 13,
     "metadata": {},
     "output_type": "execute_result"
    },
    {
     "data": {
      "image/png": "[encoded data removed]",
      "text/plain": [
       "<Figure size 640x480 with 1 Axes>"
      ]
     },
     "metadata": {},
     "output_type": "display_data"
    }
   ],
   "source": [
    "frequencies.log_likelihood.hist()"
   ]
  },
  {
   "cell_type": "code",
   "execution_count": 14,
   "id": "0aebc0d6-4a67-4c8c-8952-99cad174abe1",
   "metadata": {},
   "outputs": [
    {
     "data": {
      "text/plain": [
       "(157103, 5)"
      ]
     },
     "execution_count": 14,
     "metadata": {},
     "output_type": "execute_result"
    }
   ],
   "source": [
    "dictionary = frequencies\n",
    "dictionary.shape"
   ]
  },
  {
   "cell_type": "markdown",
   "id": "afe6168a-93c4-4799-8c6a-855d525e3924",
   "metadata": {},
   "source": [
    "### test on cipher"
   ]
  },
  {
   "cell_type": "code",
   "execution_count": 15,
   "id": "a5276a21-1a4c-4cfe-a8e9-d640f483a32d",
   "metadata": {},
   "outputs": [
    {
     "data": {
      "text/plain": [
       "((53, 16, 27), (157103, 16, 27))"
      ]
     },
     "execution_count": 15,
     "metadata": {},
     "output_type": "execute_result"
    }
   ],
   "source": [
    "X = vectorize_text(CRYPTOGRAM, TARGET_ALPHABET)\n",
    "V = vectorize_text(dictionary.word.tolist(), TARGET_ALPHABET)\n",
    "X.shape, V.shape"
   ]
  },
  {
   "cell_type": "markdown",
   "id": "81852014-1505-4e4e-9065-9bfdabc47b50",
   "metadata": {},
   "source": [
    "# Get Masks"
   ]
  },
  {
   "cell_type": "code",
   "execution_count": 16,
   "id": "9bb8e235-0a3a-425b-ac09-dcc627fe7fe0",
   "metadata": {},
   "outputs": [],
   "source": [
    "def get_shared_word_separater_mask(text1, text2):\n",
    "    separater_pos1 = np.array([w.index(' ') for w in text1])\n",
    "    separater_pos2 = np.array([w.index(' ') for w in text2])\n",
    "    return separater_pos1[:, None] == separater_pos2[None, :]"
   ]
  },
  {
   "cell_type": "code",
   "execution_count": 17,
   "id": "79d5a161-b93e-47a3-aa55-b6b2d9427afd",
   "metadata": {},
   "outputs": [
    {
     "data": {
      "image/png": "[encoded data removed]",
      "text/plain": [
       "<Figure size 1000x500 with 3 Axes>"
      ]
     },
     "metadata": {},
     "output_type": "display_data"
    }
   ],
   "source": [
    "import matplotlib.pyplot as plt\n",
    "\n",
    "from cryptogram import get_shared_word_length_mask, get_shared_token_sequence_mask\n",
    "\n",
    "\n",
    "fig, axs = plt.subplots(1, 3, sharey=True, figsize=(10, 5))\n",
    "\n",
    "mask1 = get_shared_word_length_mask(CRYPTOGRAM, dictionary.word.tolist())\n",
    "mask2 = get_shared_token_sequence_mask(X, V)\n",
    "mask3 = get_shared_word_separater_mask(CRYPTOGRAM, dictionary.word.tolist())\n",
    "\n",
    "axs[0].bar(np.arange(mask1.shape[0]), mask1.sum(axis=1))\n",
    "axs[1].bar(np.arange(mask2.shape[0]), mask2.sum(axis=1))\n",
    "axs[2].bar(np.arange(mask2.shape[0]), (mask1 * mask2).sum(axis=1))\n",
    "\n",
    "for ax in axs:\n",
    "    ax.set_xticks(np.arange(mask1.shape[0]), CRYPTOGRAM, rotation=90)\n",
    "\n",
    "fig.tight_layout()"
   ]
  },
  {
   "cell_type": "code",
   "execution_count": 18,
   "id": "b5860f1d-3262-4ed5-86d6-9531bd88f909",
   "metadata": {},
   "outputs": [
    {
     "data": {
      "text/plain": [
       "1"
      ]
     },
     "execution_count": 18,
     "metadata": {},
     "output_type": "execute_result"
    }
   ],
   "source": [
    "sum(1 for w in dictionary if len(w) == len(set(w)) and len(w) == 4)"
   ]
  },
  {
   "cell_type": "markdown",
   "id": "ac56236d-7b05-42c7-ac7a-5e7ff87f6ec1",
   "metadata": {},
   "source": [
    "# Random Scores"
   ]
  },
  {
   "cell_type": "code",
   "execution_count": 19,
   "id": "c3263d99-515f-4c3d-9950-c728fbfbb1f7",
   "metadata": {},
   "outputs": [],
   "source": [
    "from cryptogram import word_vector_overlap\n",
    "\n",
    "F = dictionary.log_likelihood.values\n",
    "def score(π, X, V, mask):\n",
    "    Xt = X.dot(π)\n",
    "    matches = word_vector_overlap(Xt, V)\n",
    "    ix = np.argmax(matches, axis=1)\n",
    "    return F[ix].sum()\n",
    "\n",
    "F = dictionary.log_likelihood.values\n",
    "def score(π, X, V, mask):\n",
    "    Xt = X.dot(π)\n",
    "    matches = word_vector_overlap(np.log(Xt+1e-24), V)\n",
    "    return (matches * mask).sum()"
   ]
  },
  {
   "cell_type": "code",
   "execution_count": 20,
   "id": "b1f0a8e3-d68c-4238-9a68-49d5e4cb3c71",
   "metadata": {},
   "outputs": [
    {
     "data": {
      "text/plain": [
       "<matplotlib.lines.Line2D at 0x297063100>"
      ]
     },
     "execution_count": 20,
     "metadata": {},
     "output_type": "execute_result"
    },
    {
     "data": {
      "image/png": "[encoded data removed]",
      "text/plain": [
       "<Figure size 640x480 with 1 Axes>"
      ]
     },
     "metadata": {},
     "output_type": "display_data"
    }
   ],
   "source": [
    "import matplotlib.pyplot as plt\n",
    "\n",
    "\n",
    "fig, ax = plt.subplots()\n",
    "\n",
    "random_scores = []\n",
    "for _ in range(250):\n",
    "    π = np.eye(len(TARGET_ALPHABET))\n",
    "    np.random.shuffle(π)\n",
    "    random_scores.append(score(π, X, V, mask1*mask2*mask3))\n",
    "ax.hist(random_scores, bins=40)\n",
    "\n",
    "# π = np.zeros((len(CRYPTOGRAM_ALPHABET), len(TARGET_ALPHABET)))\n",
    "# π[np.arange(len(CRYPTOGRAM_ALPHABET)), np.vectorize(TARGET_ALPHABET.index)(list(CRYPTOGRAM_ALPHABET))] = 1\n",
    "π = np.eye(len(TARGET_ALPHABET))\n",
    "true_score = score(π, X, V, mask1*mask2)\n",
    "ax.axvline(true_score, color='C7')"
   ]
  },
  {
   "cell_type": "markdown",
   "id": "fd646551-d6fa-45d0-a393-60aaa7344db5",
   "metadata": {},
   "source": [
    "# pytorch"
   ]
  },
  {
   "cell_type": "code",
   "execution_count": 21,
   "id": "d852b98b-8c75-454a-9c85-525d05c920af",
   "metadata": {},
   "outputs": [],
   "source": [
    "import torch\n",
    "\n",
    "X = torch.from_numpy(X)\n",
    "V = torch.from_numpy(V)\n",
    "F = torch.from_numpy(F)\n",
    "mask = torch.from_numpy(mask1*mask2*mask3).type(torch.float64)"
   ]
  },
  {
   "cell_type": "markdown",
   "id": "48673672-d1ae-4d6a-9213-ffb1adf9fe2d",
   "metadata": {},
   "source": [
    "$$\n",
    "P(w^{\\prime}) = \\sum_{w}^{}{P(w^{\\prime}\\vert w)P(w)}\n",
    "$$"
   ]
  },
  {
   "cell_type": "code",
   "execution_count": 22,
   "id": "8dc0ccd7-578d-4a2d-b1a4-0e02027f1e43",
   "metadata": {},
   "outputs": [
    {
     "data": {
      "text/plain": [
       "(tensor([1.0003, 1.0004, 1.0002, 1.0002, 1.0002, 1.0003, 0.9998, 0.9980, 0.9999,\n",
       "         1.0000, 1.0001, 1.0007, 0.9990, 0.9997, 1.0004, 0.9994, 0.9998, 1.0001,\n",
       "         1.0004, 0.9995, 1.0000, 1.0005, 1.0000, 1.0006, 1.0001, 0.9999, 1.0005],\n",
       "        dtype=torch.float64, grad_fn=<SumBackward1>),\n",
       " tensor([1.0000, 1.0000, 1.0000, 1.0000, 1.0000, 1.0000, 1.0000, 1.0000, 1.0000,\n",
       "         1.0000, 1.0000, 1.0000, 1.0000, 1.0000, 1.0000, 1.0000, 1.0000, 1.0000,\n",
       "         1.0000, 1.0000, 1.0000, 1.0000, 1.0000, 1.0000, 1.0000, 1.0000, 1.0000],\n",
       "        dtype=torch.float64, grad_fn=<SumBackward1>),\n",
       " torch.Size([27, 27]))"
      ]
     },
     "execution_count": 22,
     "metadata": {},
     "output_type": "execute_result"
    }
   ],
   "source": [
    "def word_vector_overlap(X, V):\n",
    "    return torch.tensordot(X, V, dims=[[1, 2], [1, 2]])\n",
    "\n",
    "def score(π, X, V, mask):\n",
    "    Xt = X @ π\n",
    "    matches = word_vector_overlap(torch.log(Xt+1e-24), V)\n",
    "    return (matches*mask + F[None, :]*mask)\n",
    "\n",
    "# def score(π, X, V, mask):\n",
    "#     Xt = X @ π\n",
    "#     matches = word_vector_overlap(Xt, V)\n",
    "#     return (matches * mask).max(axis=1).values.sum()\n",
    "\n",
    "def find_matches(X, V):\n",
    "    return torch.tensordot(X, V, dims=[[1, 2], [1, 2]])\n",
    "\n",
    "def make_π(σ):\n",
    "    π = torch.exp(σ)\n",
    "    for _ in range(3):\n",
    "        for axis in [0, 1]:\n",
    "            π = π / π.sum(axis=axis, keepdims=True)\n",
    "    return π\n",
    "\n",
    "σ = torch.randn(len(TARGET_ALPHABET), len(TARGET_ALPHABET), dtype=torch.float64, requires_grad=True)\n",
    "π = make_π(σ)\n",
    "π.sum(axis=0), π.sum(axis=1), π.shape"
   ]
  },
  {
   "cell_type": "code",
   "execution_count": 23,
   "id": "cfdcb5ce-0a7e-4d6c-9cd4-c01d703fdf92",
   "metadata": {},
   "outputs": [
    {
     "data": {
      "text/plain": [
       "tensor(-1216067.1467, dtype=torch.float64, grad_fn=<SumBackward0>)"
      ]
     },
     "execution_count": 23,
     "metadata": {},
     "output_type": "execute_result"
    }
   ],
   "source": [
    "score(π, X, V, mask).sum()"
   ]
  },
  {
   "cell_type": "code",
   "execution_count": 24,
   "id": "1541a741-c443-4df3-8a5a-a73bcdb814ac",
   "metadata": {},
   "outputs": [
    {
     "data": {
      "text/plain": [
       "Adam (\n",
       "Parameter Group 0\n",
       "    amsgrad: False\n",
       "    betas: (0.9, 0.999)\n",
       "    capturable: False\n",
       "    differentiable: False\n",
       "    eps: 1e-08\n",
       "    foreach: None\n",
       "    fused: None\n",
       "    lr: 0.001\n",
       "    maximize: False\n",
       "    weight_decay: 0\n",
       ")"
      ]
     },
     "execution_count": 24,
     "metadata": {},
     "output_type": "execute_result"
    }
   ],
   "source": [
    "optimizer = torch.optim.Adam([σ])\n",
    "optimizer"
   ]
  },
  {
   "cell_type": "code",
   "execution_count": 25,
   "id": "6d7feab8-ea70-4a63-b76c-725819ce39b7",
   "metadata": {
    "scrolled": true
   },
   "outputs": [
    {
     "data": {
      "application/vnd.jupyter.widget-view+json": {
       "model_id": "d7921ddc73d742a6a7c8187eb0530066",
       "version_major": 2,
       "version_minor": 0
      },
      "text/plain": [
       "  0%|          | 0/200000 [00:00<?, ?it/s]"
      ]
     },
     "metadata": {},
     "output_type": "display_data"
    }
   ],
   "source": [
    "from tqdm.notebook import tqdm\n",
    "\n",
    "def constraint(π):\n",
    "    return sum(\n",
    "        (1 - π.sum(axis=axis)).abs().sum()\n",
    "        for axis in [0, 1]\n",
    "    )\n",
    "\n",
    "last_loss = np.inf\n",
    "with tqdm(range(200000)) as pbar:\n",
    "    for _ in pbar:\n",
    "        π = make_π(σ)\n",
    "        # loss = -score(π, X, V, mask).mean()\n",
    "        # add weight for length of match\n",
    "        loss = (\n",
    "            -(score(π, X, V, mask) * X.sum(axis=(1, 2))[:, None]).mean()\n",
    "            + torch.abs(1-π.sum(axis=0)).sum()\n",
    "            + torch.abs(1-π.sum(axis=1)).sum()\n",
    "        )\n",
    "        loss.retain_grad()\n",
    "        # Backpropagation\n",
    "        loss.backward()\n",
    "        optimizer.step()\n",
    "        optimizer.zero_grad()\n",
    "        loss = loss.item()\n",
    "        pbar.set_postfix(loss=f'{loss:>7f}')\n",
    "        if abs(last_loss - loss) < 1e-7:\n",
    "            break\n",
    "        last_loss = loss"
   ]
  },
  {
   "cell_type": "code",
   "execution_count": 26,
   "id": "3cd6c145-9b8d-44a0-9392-f6ab3390b3f6",
   "metadata": {},
   "outputs": [
    {
     "data": {
      "image/png": "[encoded data removed]",
      "text/plain": [
       "<Figure size 1000x500 with 2 Axes>"
      ]
     },
     "metadata": {},
     "output_type": "display_data"
    }
   ],
   "source": [
    "import matplotlib.pyplot as plt\n",
    "\n",
    "\n",
    "fig, axs = plt.subplots(1, 2, figsize=(10, 5))\n",
    "\n",
    "π = make_π(σ)\n",
    "π_max = π.detach().numpy()\n",
    "axs[0].imshow(π_max)\n",
    "_ = axs[0].set_xticks(np.arange(len(TARGET_ALPHABET)), TARGET_ALPHABET)\n",
    "_ = axs[0].set_yticks(np.arange(len(TARGET_ALPHABET)), TARGET_ALPHABET)\n",
    "\n",
    "axs[1].bar(np.arange(π_max.shape[0]), π_max.sum(axis=1), width=.3)\n",
    "axs[1].bar(np.arange(π_max.shape[1])+.5, π_max.sum(axis=0), width=.3)\n",
    "\n",
    "fig.tight_layout()"
   ]
  },
  {
   "cell_type": "markdown",
   "id": "ba2303f6-d116-4677-93d0-cf286ed0b5c4",
   "metadata": {},
   "source": [
    "# Solve for the cipher"
   ]
  },
  {
   "cell_type": "code",
   "execution_count": 27,
   "id": "451678af-dce5-4f45-9624-80b0f6c52ed4",
   "metadata": {},
   "outputs": [
    {
     "name": "stdout",
     "output_type": "stream",
     "text": [
      "DCXG L -> WHEN A\n",
      "L MYXG -> I OPEN\n",
      "MYXG QCXZ -> OVER THEM\n",
      "QCXZ ZMNQ -> THOU HAST\n",
      "ZMNQ MO -> MOST OF\n",
      "MO QCX -> IN THE\n",
      "QCX VMMFN -> THE COOKS\n",
      "VMMFN CJUX -> FOODS HAVE\n",
      "CJUX QCX -> HAVE THE\n",
      "QCX NZXRR -> THE DRESS\n",
      "NZXRR MO -> SMELL OF\n",
      "MO JG -> TO AN\n",
      "JG XJWRLXW -> AS EARLIER\n",
      "XJWRLXW QLZX -> EARLIER DATE\n",
      "QLZX RXJFLGE -> TIME LEADING\n",
      "RXJFLGE MKQ -> LEAKING OUT\n",
      "MKQ VXQDXXG -> OUT BETWEEN\n",
      "VXQDXXG QCX -> BETWEEN THE\n",
      "QCX YJEXN -> THE LIVES\n",
      "YJEXN J -> HEARD A\n",
      "J NYXALJR -> A SPECIAL\n",
      "NYXALJR MPMW -> SPECIAL THAN\n",
      "MPMW MO -> ODOR OF\n",
      "MO QCX -> IN THE\n",
      "QCX FGMDRXPEX -> HER KNOWLEDGE\n",
      "FGMDRXPEX JGP -> KNOWLEDGE HOW\n",
      "JGP XZMQLMGN -> AND EMOTIONS\n",
      "XZMQLMGN QCJQ -> STRIKING THAT\n",
      "QCJQ OMW -> THAT FOR\n",
      "OMW JEXN -> FOR MANY\n",
      "JEXN CJUX -> AGES HAVE\n",
      "CJUX VXXG -> HAVE BEEN\n",
      "VXXG AJRZRT -> BEEN CAUSED\n",
      "AJRZRT WXNQLGE -> CEASED WORKING\n",
      "WXNQLGE VXQDXXG -> RESTING BETWEEN\n",
      "VXQDXXG QCX -> BETWEEN THE\n",
      "QCX AMUXWN -> THE COLORS\n",
      "AMUXWN VWXJQCLGE -> AC HAMILTON\n",
      "VWXJQCLGE LQ -> BREATHING IN\n",
      "LQ LG -> IT IS\n",
      "LG L -> AS A\n",
      "L ERJGAX -> A DIRECT\n",
      "ERJGAX QCWMKEC -> GLANCE THROUGH\n",
      "QCWMKEC J -> THROUGH A\n",
      "J OXD -> A NEW\n",
      "OXD YJEXN -> FEW MILES\n",
      "YJEXN VXOMWX -> LIVED BEFORE\n",
      "VXOMWX WXQKWGLGE -> BEFORE RETURNING\n",
      "WXQKWGLGE XJAC -> RETURNING EACH\n",
      "XJAC VMMF -> EACH BOOK\n",
      "VMMF QM -> FOOD TO\n",
      "QM LQN -> AT ITS\n",
      "LQN NCXRO -> ITS SHELF\n"
     ]
    }
   ],
   "source": [
    "# masked values become 0, which overtake the actual values we're looking for in `argmax`\n",
    "scores = np.ma.masked_equal(score(π_max, X, V, mask).numpy(), 0.0, copy=False)\n",
    "\n",
    "for w, ix in zip(CRYPTOGRAM, np.argmin(-scores, axis=1)):\n",
    "    print(w, '->', dictionary.word.iloc[ix])"
   ]
  },
  {
   "cell_type": "code",
   "execution_count": 28,
   "id": "3298063e-b0c6-4632-b3c6-24521bb75f64",
   "metadata": {},
   "outputs": [
    {
     "data": {
      "text/plain": [
       "encrypted  decrypted\n",
       "AJRZRT     CAUSED       1\n",
       "NZXRR      SMELL        1\n",
       "ZMNQ       HAST         1\n",
       "OXD        FEW          1\n",
       "           NEW          1\n",
       "                       ..\n",
       "L          A            3\n",
       "VXQDXXG    BETWEEN      4\n",
       "J          A            4\n",
       "CJUX       HAVE         4\n",
       "QCX        THE          9\n",
       "Length: 72, dtype: int64"
      ]
     },
     "execution_count": 28,
     "metadata": {},
     "output_type": "execute_result"
    }
   ],
   "source": [
    "# masked values become 0, which overtake the actual values we're looking for in `argmax`\n",
    "scores = np.ma.masked_equal(score(π_max, X, V, mask).numpy(), 0.0, copy=False)\n",
    "\n",
    "translations = []\n",
    "for w, ix in zip(CRYPTOGRAM, np.argmin(-scores, axis=1)):\n",
    "    for w1, t1 in zip(w.split(), dictionary.word.iloc[ix].split()):\n",
    "        translations.append((w1, t1))\n",
    "translations = pd.DataFrame(translations, columns=['encrypted', 'decrypted'])\n",
    "translations.groupby(['encrypted', 'decrypted']).size().sort_values()"
   ]
  },
  {
   "cell_type": "code",
   "execution_count": 29,
   "id": "834ecfd9-6d6b-4e02-8fc9-d56b6e1825cb",
   "metadata": {},
   "outputs": [
    {
     "data": {
      "text/plain": [
       "encrypted  decrypted\n",
       "A          A             1\n",
       "N          R             1\n",
       "           Y             1\n",
       "O          O             1\n",
       "P          W             1\n",
       "                        ..\n",
       "G          N            25\n",
       "C          H            26\n",
       "M          O            30\n",
       "Q          T            35\n",
       "X          E            68\n",
       "Length: 89, dtype: int64"
      ]
     },
     "execution_count": 29,
     "metadata": {},
     "output_type": "execute_result"
    }
   ],
   "source": [
    "# masked values become 0, which overtake the actual values we're looking for in `argmax`\n",
    "scores = np.ma.masked_equal(score(π_max, X, V, mask).numpy(), 0.0, copy=False)\n",
    "\n",
    "translations = []\n",
    "for w, ix in zip(CRYPTOGRAM, np.argmin(-scores, axis=1)):\n",
    "    for w1, t1 in zip(w.split(), dictionary.word.iloc[ix].split()):\n",
    "        for c1, c2 in zip(w1, t1):\n",
    "            translations.append((c1, c2))\n",
    "translations = pd.DataFrame(translations, columns=['encrypted', 'decrypted'])\n",
    "translation_frequencies = translations.groupby(['encrypted', 'decrypted']).size().sort_values()\n",
    "translation_frequencies"
   ]
  },
  {
   "cell_type": "code",
   "execution_count": 30,
   "id": "d17e8844-0885-448a-b56f-ad37b7f114c0",
   "metadata": {},
   "outputs": [
    {
     "data": {
      "text/plain": [
       "{'A': 'C',\n",
       " 'B': 'X',\n",
       " 'C': 'H',\n",
       " 'D': 'W',\n",
       " 'E': 'G',\n",
       " 'F': 'K',\n",
       " 'G': 'N',\n",
       " 'H': 'Q',\n",
       " 'I': 'J',\n",
       " 'J': 'A',\n",
       " 'K': 'U',\n",
       " 'L': 'I',\n",
       " 'M': 'O',\n",
       " 'N': 'S',\n",
       " 'O': 'F',\n",
       " 'P': 'D',\n",
       " 'Q': 'T',\n",
       " 'R': 'L',\n",
       " 'S': 'Z',\n",
       " 'T': 'Y',\n",
       " 'U': 'V',\n",
       " 'V': 'B',\n",
       " 'W': 'R',\n",
       " 'X': 'E',\n",
       " 'Y': 'P',\n",
       " 'Z': 'M',\n",
       " ' ': ' '}"
      ]
     },
     "execution_count": 30,
     "metadata": {},
     "output_type": "execute_result"
    }
   ],
   "source": [
    "from scipy.optimize import linear_sum_assignment\n",
    "\n",
    "C = translation_frequencies.unstack('decrypted').fillna(0)\n",
    "C = C.reindex(list(TARGET_ALPHABET)).reindex(list(TARGET_ALPHABET), axis=1).fillna(0)\n",
    "learned_cipher = {\n",
    "    TARGET_ALPHABET[i]: TARGET_ALPHABET[j]\n",
    "    for i, j in zip(*linear_sum_assignment(C, maximize=True))\n",
    "}\n",
    "learned_cipher"
   ]
  },
  {
   "cell_type": "code",
   "execution_count": 31,
   "id": "e9773d17-15de-4053-9679-870ba798ce8f",
   "metadata": {},
   "outputs": [
    {
     "data": {
      "text/plain": [
       "['DCXG L',\n",
       " 'L MYXG',\n",
       " 'MYXG QCXZ',\n",
       " 'QCXZ ZMNQ',\n",
       " 'ZMNQ MO',\n",
       " 'MO QCX',\n",
       " 'QCX VMMFN',\n",
       " 'VMMFN CJUX',\n",
       " 'CJUX QCX',\n",
       " 'QCX NZXRR',\n",
       " 'NZXRR MO',\n",
       " 'MO JG',\n",
       " 'JG XJWRLXW',\n",
       " 'XJWRLXW QLZX',\n",
       " 'QLZX RXJFLGE',\n",
       " 'RXJFLGE MKQ',\n",
       " 'MKQ VXQDXXG',\n",
       " 'VXQDXXG QCX',\n",
       " 'QCX YJEXN',\n",
       " 'YJEXN J',\n",
       " 'J NYXALJR',\n",
       " 'NYXALJR MPMW',\n",
       " 'MPMW MO',\n",
       " 'MO QCX',\n",
       " 'QCX FGMDRXPEX',\n",
       " 'FGMDRXPEX JGP',\n",
       " 'JGP XZMQLMGN',\n",
       " 'XZMQLMGN QCJQ',\n",
       " 'QCJQ OMW',\n",
       " 'OMW JEXN',\n",
       " 'JEXN CJUX',\n",
       " 'CJUX VXXG',\n",
       " 'VXXG AJRZRT',\n",
       " 'AJRZRT WXNQLGE',\n",
       " 'WXNQLGE VXQDXXG',\n",
       " 'VXQDXXG QCX',\n",
       " 'QCX AMUXWN',\n",
       " 'AMUXWN VWXJQCLGE',\n",
       " 'VWXJQCLGE LQ',\n",
       " 'LQ LG',\n",
       " 'LG L',\n",
       " 'L ERJGAX',\n",
       " 'ERJGAX QCWMKEC',\n",
       " 'QCWMKEC J',\n",
       " 'J OXD',\n",
       " 'OXD YJEXN',\n",
       " 'YJEXN VXOMWX',\n",
       " 'VXOMWX WXQKWGLGE',\n",
       " 'WXQKWGLGE XJAC',\n",
       " 'XJAC VMMF',\n",
       " 'VMMF QM',\n",
       " 'QM LQN',\n",
       " 'LQN NCXRO']"
      ]
     },
     "execution_count": 31,
     "metadata": {},
     "output_type": "execute_result"
    }
   ],
   "source": [
    "CRYPTOGRAM"
   ]
  },
  {
   "cell_type": "code",
   "execution_count": 32,
   "id": "dd01bb4d-6459-462f-af2a-b66d838b4df4",
   "metadata": {},
   "outputs": [
    {
     "data": {
      "text/plain": [
       "'WHEN I OPEN THEM MOST OF THE BOOKS HAVE THE SMELL OF AN EARLIER TIME LEAKING OUT BETWEEN THE PAGES A SPECIAL ODOR OF THE KNOWLEDGE AND EMOTIONS THAT FOR AGES HAVE BEEN CALMLY RESTING BETWEEN THE COVERS BREATHING IT IN I GLANCE THROUGH A FEW PAGES BEFORE RETURNING EACH BOOK TO ITS'"
      ]
     },
     "execution_count": 32,
     "metadata": {},
     "output_type": "execute_result"
    }
   ],
   "source": [
    "' '.join(w.split()[0] for w in CRYPTOGRAM).translate(str.maketrans(learned_cipher))"
   ]
  }
 ],
 "metadata": {
  "kernelspec": {
   "display_name": "default",
   "language": "python",
   "name": "default"
  },
  "language_info": {
   "codemirror_mode": {
    "name": "ipython",
    "version": 3
   },
   "file_extension": ".py",
   "mimetype": "text/x-python",
   "name": "python",
   "nbconvert_exporter": "python",
   "pygments_lexer": "ipython3",
   "version": "3.9.17"
  }
 },
 "nbformat": 4,
 "nbformat_minor": 5
}
