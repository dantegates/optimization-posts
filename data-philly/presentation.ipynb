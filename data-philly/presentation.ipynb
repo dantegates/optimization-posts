{
 "cells": [
  {
   "cell_type": "raw",
   "id": "58df0c3d-1a84-4c75-918e-3f6d7996aba3",
   "metadata": {},
   "source": [
    "---\n",
    "title: >\n",
    "  What makes optimization special?<h3 style=\"margin: 0\">(and why should I care?)</h3>\n",
    "subtitle: <br>Data Philly, Feb. 2024<br>Dante Gates\n",
    "format:\n",
    "  revealjs:\n",
    "    html-math-method: katex\n",
    "    auto-stretch: true\n",
    "    fig-align: center\n",
    "    highlight-style: github\n",
    "---"
   ]
  },
  {
   "cell_type": "markdown",
   "id": "d7facbbb-c68c-4912-b89a-562ee994e8d0",
   "metadata": {},
   "source": [
    "## About me\n",
    "\n",
    "::: {style=\"margin-top: 4em\"}\n",
    "> Husband and Father\n",
    ">\n",
    "> Philly data scientist\n",
    ">\n",
    "> wrote a haiku once\n",
    "\n",
    ":::"
   ]
  },
  {
   "cell_type": "markdown",
   "id": "5c99b85c-4f3a-4cec-ad8d-49756b3532eb",
   "metadata": {},
   "source": [
    "## Outline\n",
    "\n",
    "1. Background (_what makes optimization special?_)\n",
    "2. 3 fun examples (_takeaway_)\n",
    "3. 2 industry examples (_why should I care?_)\n",
    "4. Takeaway\n",
    "\n",
    "::: {.fragment style=\"margin-top: 5%\"}\n",
    "⚠️ _Disclaimer_\n",
    ":::"
   ]
  },
  {
   "cell_type": "markdown",
   "id": "198b8373-2c4f-4ee7-adea-7367aa7fc9d9",
   "metadata": {
    "editable": true,
    "slideshow": {
     "slide_type": "slide"
    },
    "tags": []
   },
   "source": [
    "# Background"
   ]
  },
  {
   "cell_type": "markdown",
   "id": "da3bf0b4-f317-4961-b25c-a96d64153fdd",
   "metadata": {
    "editable": true,
    "slideshow": {
     "slide_type": "slide"
    },
    "tags": []
   },
   "source": [
    "## As seen on machine learning{auto-animate=true}\n",
    "![](presentation-assets/as-seen-on-ml.png)"
   ]
  },
  {
   "cell_type": "markdown",
   "id": "bfc51ed7-4f09-42a8-9618-f087bd045ff0",
   "metadata": {
    "editable": true,
    "jp-MarkdownHeadingCollapsed": true,
    "slideshow": {
     "slide_type": "subslide"
    },
    "tags": []
   },
   "source": [
    "## As Seen on Machine Learning{auto-animate=true auto-animate-duration=.5}\n",
    "\n",
    "![](presentation-assets/as-seen-on-ml.png){.absolute top=180 left=25 height=\"400\"}\n",
    "![](presentation-assets/as-seen-on-ml-packages.png){.absolute top=40 left=650 height=650}"
   ]
  },
  {
   "cell_type": "markdown",
   "id": "69b0bab2-42c0-4f0e-8798-7a45ec4ee1c4",
   "metadata": {
    "editable": true,
    "jp-MarkdownHeadingCollapsed": true,
    "slideshow": {
     "slide_type": "subslide"
    },
    "tags": []
   },
   "source": [
    "## As Seen on Machine Learning{auto-animate=true auto-animate-duration=.5}\n",
    "\n",
    "![](presentation-assets/as-seen-on-ml-packages.png){.absolute top=75 left=0 height=600}\n",
    "\n",
    "::: {.absolute left=500}\n",
    "- Stochastic gradient descent\n",
    "- Mini-max\n",
    ":::"
   ]
  },
  {
   "cell_type": "markdown",
   "id": "a2cc4453-4728-4254-980a-dd91c60466de",
   "metadata": {
    "editable": true,
    "slideshow": {
     "slide_type": "subslide"
    },
    "tags": []
   },
   "source": [
    "## As seen on machine learning {auto-animate=true}\n",
    "\n",
    "::: {style=\"margin-top: 2em\"}\n",
    "\n",
    "Objective function\n",
    "\n",
    "\n",
    "$$\n",
    "\\begin{align*}\n",
    "\\underset{\\theta}{\\text{argmin}}\\ \\mathcal{L}(y,f(\\theta))\n",
    "\\end{align*}\n",
    "$$\n",
    "\n",
    ":::"
   ]
  },
  {
   "cell_type": "markdown",
   "id": "05fbb12d-35b1-47ea-a918-0be19b74d804",
   "metadata": {
    "editable": true,
    "slideshow": {
     "slide_type": "subslide"
    },
    "tags": []
   },
   "source": [
    "## As seen on machine learning {auto-animate=true}\n",
    "\n",
    "::: {style=\"margin-top: 2em\"}\n",
    "\n",
    "Penalties (constraint, sort of)\n",
    "\n",
    "$$\n",
    "\\begin{align*}\n",
    "\\underset{\\theta}{\\text{argmin}}\\ &\\mathcal{L}(y,f(\\theta))\\color{blue}{+\\sum_{i=1}^{l}{g_{i}(\\theta, \\lambda_{i})}}\\\\\n",
    "\\text{where}&\\\\\n",
    "&\\color{blue}{g_{i}(\\theta,\\lambda_{i})>0,\\ i=1\\ldots l}\n",
    "\\end{align*}\n",
    "$$\n",
    "\n",
    ":::"
   ]
  },
  {
   "cell_type": "markdown",
   "id": "d2b981ca-37ba-467f-b592-09173739d18b",
   "metadata": {
    "editable": true,
    "slideshow": {
     "slide_type": "subslide"
    },
    "tags": []
   },
   "source": [
    "## As seen on machine learning {auto-animate=true}\n",
    "\n",
    "::: {style=\"margin-top: 2em\"}\n",
    "\n",
    "Input/Output domain (constraint)\n",
    "\n",
    "$$\n",
    "\\begin{align*}\n",
    "\\underset{\\theta}{\\text{argmin}}\\ &\\mathcal{L}(y,f(\\theta))+\\sum_{i=1}^{l}{g_{i}(\\theta, \\lambda_{i})}\\\\\n",
    "\\text{where}&\\\\\n",
    "&g_{i}(\\theta,\\lambda_{i})>0,\\ i=1\\ldots l \\\\\n",
    "&\\color{blue}{f(\\theta): \\mathbb{R}^{n}\\to \\mathbb{R}^{m}}\n",
    "\\end{align*}\n",
    "$$\n",
    "\n",
    ":::"
   ]
  },
  {
   "cell_type": "markdown",
   "id": "e3fe6cca-ce55-46e7-a157-171308930ddd",
   "metadata": {
    "editable": true,
    "slideshow": {
     "slide_type": "subslide"
    },
    "tags": []
   },
   "source": [
    "## What's so special about optimization? {auto-animate=true}"
   ]
  },
  {
   "cell_type": "markdown",
   "id": "d7066f1b-a2f9-4034-904e-7888e38ca0c8",
   "metadata": {},
   "source": [
    "::: {style=\"margin-top: 2em\"}\n",
    "\n",
    "Objective no longer explicitly references a target variable\n",
    "\n",
    "$$\n",
    "\\begin{align*}\n",
    "&\\underset{\\theta}{\\text{argmin}}\\ \\color{blue}{f({\\theta, X})} \\\\\n",
    "\\end{align*}\n",
    "$$\n",
    "\n",
    ":::"
   ]
  },
  {
   "cell_type": "markdown",
   "id": "e03c4914-2586-40b6-8515-ed09320eadf5",
   "metadata": {},
   "source": [
    "## What's so special about optimization? {auto-animate=true}\n",
    "\n",
    "::: {style=\"margin-top: 2em\"}\n",
    "\n",
    "Ability to require arbitrary (sort of) constraints\n",
    "\n",
    "$$\n",
    "\\begin{align*}\n",
    "\\underset{\\theta}{\\text{argmin}}\\ &f({\\theta, X}) \\\\\n",
    "\\text{s.t.}&\\\\\n",
    "&\\color{blue}{g_{i}(\\theta, X) < C_{i}, i\\ldots n}\n",
    "\\end{align*}\n",
    "$$\n",
    "\n",
    ":::"
   ]
  },
  {
   "cell_type": "markdown",
   "id": "ba23de9b-d19b-4f66-9309-c7c71e06bd48",
   "metadata": {},
   "source": [
    "## What's so special about optimization? {auto-animate=true}\n",
    "\n",
    "::: {style=\"margin-top: 2em\"}\n",
    "\n",
    "Model parameters no longer bound to strictly reals\n",
    "\n",
    "$$\n",
    "\\begin{align*}\n",
    "\\underset{\\theta}{\\text{argmin}}\\ &f({\\theta, X}) \\\\\n",
    "\\text{s.t.}&\\\\\n",
    "&g_{i}(\\theta, X) < C_{i}, i\\ldots n \\\\\n",
    "&\\color{blue}{f(\\theta, X): \\{\\mathbb{R},\\mathbb{Z},\\ldots\\}^{n}\\to \\mathbb{R}\\ \\text{(Usually)}}\n",
    "\\end{align*}\n",
    "$$\n",
    "\n",
    ":::"
   ]
  },
  {
   "cell_type": "markdown",
   "id": "3684e8ca-fb57-4a21-bdd6-e36fa7fc6011",
   "metadata": {},
   "source": [
    "## Classic example: traveling salesman"
   ]
  },
  {
   "cell_type": "markdown",
   "id": "66ff59ad-ab70-4eea-9b0f-fc7ceefd5f61",
   "metadata": {},
   "source": [
    "<table>\n",
    "    <tr>\n",
    "        <td>\n",
    "            $\\underset{x_{i,j}}{\\text{argmin}}\\ \\sum_{i=1}^{n}{\\sum_{j=1,i\\ne j}^{n}{c_{i,j}x_{i,j}}}$\n",
    "        </td>\n",
    "        <td>\n",
    "            Minimize distance traveled\n",
    "        </td>\n",
    "    </tr>\n",
    "    <tr>\n",
    "        <td>\n",
    "            $x_{i,j}\\in \\{0, 1\\}$\n",
    "        </td>\n",
    "        <td>\n",
    "            Objective variable represents path assignments\n",
    "        </td>\n",
    "    </tr>\n",
    "    <tr>\n",
    "        <td>\n",
    "            $\\sum_{i=1,i\\ne j}^{n}{x_{i,j}}=1$\n",
    "        </td>\n",
    "        <td>\n",
    "            All cities have exactly one incoming path\n",
    "        </td>\n",
    "    </tr>\n",
    "    <tr>\n",
    "        <td>\n",
    "            $\\sum_{j=1,i\\ne j}^{n}{x_{i,j}}=1$\n",
    "        </td>\n",
    "        <td>\n",
    "            All cities have exactly one outgoing path\n",
    "        </td>\n",
    "    </tr>\n",
    "</table>"
   ]
  },
  {
   "cell_type": "markdown",
   "id": "36665053-449b-407c-b48d-5e77c6b9e855",
   "metadata": {
    "jp-MarkdownHeadingCollapsed": true
   },
   "source": [
    "## What makes optimization special?{auto-animate=true}\n",
    "\n",
    "<br>\n",
    "\n",
    "::::{.columns}\n",
    "\n",
    ":::{.column style=\"font-size: .7em\"}\n",
    "**\"ML optimization\"**\n",
    "$$\n",
    "\\begin{align*}\n",
    "\\underset{\\theta}{\\text{argmin}}\\ &\\mathcal{L}(y,f(\\theta))+\\sum_{i=1}^{l}{g_{i}(\\theta, \\lambda_{i})}\\\\\n",
    "\\text{where}&\\\\\n",
    "&g_{i}(\\theta,\\lambda_{i})>0,\\ i=1\\ldots l \\\\\n",
    "&f(\\theta): \\mathbb{R}^{n}\\to \\mathbb{R}^{m}\n",
    "\\end{align*}\n",
    "$$\n",
    ":::\n",
    "\n",
    ":::{.column style=\"font-size: .7em; margin-top: .6em\"}\n",
    "**Mathematical optimization**\n",
    "<p style=\"margin-top: 1.9em\"></p>\n",
    "$$\n",
    "\\begin{align*}\n",
    "\\underset{\\theta}{\\text{argmin}}\\ &f({\\theta, X}) \\\\\n",
    "\\text{s.t.}&\\\\\n",
    "&g_{i}(\\theta, X) < C_{i}, i\\ldots n \\\\\n",
    "&f(\\theta, X): \\{\\mathbb{R},\\mathbb{Z},\\ldots\\}^{n}\\to \\mathbb{R}\n",
    "\\end{align*}\n",
    "$$\n",
    ":::\n",
    "\n",
    "::::"
   ]
  },
  {
   "cell_type": "markdown",
   "id": "7510b45c-04f2-4682-a023-84bc6d6f47e5",
   "metadata": {
    "jp-MarkdownHeadingCollapsed": true
   },
   "source": [
    "## What makes optimization special?{auto-animate=true}\n",
    "\n",
    "<br>\n",
    "\n",
    "::::{.columns}\n",
    "\n",
    ":::{.column style=\"font-size: .7em\"}\n",
    "**\"ML optimization\"**\n",
    "$$\n",
    "\\begin{align*}\n",
    "\\underset{\\theta}{\\text{argmin}}\\ &\\mathcal{L}(y,f(\\theta))+\\sum_{i=1}^{l}{g_{i}(\\theta, \\lambda_{i})}\\\\\n",
    "\\text{where}&\\\\\n",
    "&g_{i}(\\theta,\\lambda_{i})>0,\\ i=1\\ldots l \\\\\n",
    "&f(\\theta): \\mathbb{R}^{n}\\to \\mathbb{R}^{m}\n",
    "\\end{align*}\n",
    "$$\n",
    ":::\n",
    "\n",
    ":::{.column style=\"font-size: .7em; margin-top: .6em\"}\n",
    "**Mathematical optimization**\n",
    "<p style=\"margin-top: 1.9em\"></p>\n",
    "$$\n",
    "\\begin{align*}\n",
    "\\underset{\\theta}{\\text{argmin}}\\ &f({\\theta, X}) \\\\\n",
    "\\text{s.t.}&\\\\\n",
    "&g_{i}(\\theta, X) < C_{i}, i\\ldots n \\\\\n",
    "&f(\\theta, X): \\{\\mathbb{R},\\mathbb{Z},\\ldots\\}^{n}\\to \\mathbb{R}\n",
    "\\end{align*}\n",
    "$$\n",
    ":::\n",
    "\n",
    "::::\n",
    "\n",
    "_Mathematical optimization is_ not _special_\n"
   ]
  },
  {
   "attachments": {},
   "cell_type": "markdown",
   "id": "2eb736df-28dd-4fa9-b4a3-e1e0c12b4eaa",
   "metadata": {},
   "source": [
    "## Three examples\n",
    "(or, _the truth, a half-truth and nothing but a lie, but not necessarily in that order_)\n",
    "\n",
    "![](presentation-assets/galapagos.png){.absolute top=235 left=0 width=320}\n",
    "\n",
    "![](presentation-assets/immaculate-grid-partially-solved.png){.absolute top=240 left=350 width=400}\n",
    "\n",
    "![](presentation-assets/cipher.png){.absolute top=225 left=765 width=350}"
   ]
  },
  {
   "cell_type": "markdown",
   "id": "7fa40247-9cfe-4ecc-84d1-1c9eda75883e",
   "metadata": {},
   "source": [
    "## Bro, do you even read?\n",
    "\n",
    "\n",
    "![](presentation-assets/galapagos.png){.absolute left=0 top=100 width=550}\n",
    "\n",
    "::: {.fragment}\n",
    "::: {.absolute left=600}\n",
    "$x$: 14 pages contain underlining\n",
    "\n",
    "$t_{x}$: Last underline appears on page 84\n",
    "\n",
    "$T$: 324 pages total\n",
    "\n",
    ":::\n",
    ":::\n",
    "\n",
    "::: {.fragment}\n",
    "::: {.absolute left=600 top=450}\n",
    "**_What was the final page read?_**\n",
    ":::\n",
    ":::"
   ]
  },
  {
   "cell_type": "markdown",
   "id": "c85ece44-e677-489a-97f6-d58442cfcce5",
   "metadata": {},
   "source": [
    "## Conceptually\n",
    "\n",
    "::: {.absolute left=0}\n",
    "::: {style=\"font-size: .6em\"}\n",
    "$x$: 14 pages contain underlining\n",
    "\n",
    "$t_{x}$: Last underline appears on page 84\n",
    "\n",
    "$T$: 324 pages total\n",
    ":::\n",
    ":::\n",
    "![](presentation-assets/book-with-underlining-annotated.png)"
   ]
  },
  {
   "cell_type": "markdown",
   "id": "5f307d30-14ee-4c2f-baa4-b177c933d34a",
   "metadata": {},
   "source": [
    "## Is this an optimization problem?{auto-animate=true}\n",
    "\n",
    "<br>\n",
    "\n",
    "❓ **Objective**: ??\n",
    "\n",
    "✅ **Decision variable**: Rate of underlining ($\\lambda$), final page read ($\\tau$)\n",
    "\n",
    "✅ **Constraints**: Parameters are positive"
   ]
  },
  {
   "cell_type": "markdown",
   "id": "74bcb834-ac68-42eb-8259-ae585b1c7f74",
   "metadata": {},
   "source": [
    "## Is this an optimization problem?{auto-animate=true}\n",
    "\n",
    "<br>\n",
    "\n",
    "✅ **Objective**: Maximize _likelihood_ of observed data (number of underlines and final page with an underline)\n",
    "\n",
    "✅ **Decision variable**: Rate of underlining ($\\lambda$), final page read ($\\tau$)\n",
    "\n",
    "✅ **Constraints**: Parameters are positive"
   ]
  },
  {
   "cell_type": "markdown",
   "id": "dffd520c-ae8c-4df1-addf-c4d3b7137052",
   "metadata": {},
   "source": [
    "## {auto-animate=true background-image=presentation-assets/book-with-underlining-annotated.png background-size=\"200px\" background-repeat=\"repeat\"}\n",
    "\n",
    "![](presentation-assets/fader-et-al.png){.absolute height=900}\n",
    "\n",
    "\n",
    "::: {.absolute top=100}\n",
    "::: {.fragment style=\"background: white\"}\n",
    "$$\n",
    "\\begin{equation}\\tag{7}\n",
    "\\text{LL}(r,\\alpha,a,b)=\\sum_{i=1}^{n}{\\ln \\left[\\text{L}(r,\\alpha,a,b\\vert X_{i}=x_{i},t_{x},T_{i})\\right]}\\ \\ \\ \\ \\ \\ \\ \\ \\ \\ \n",
    "\\end{equation}\n",
    "$$\n",
    "\n",
    "> [Maximum likelihood estimates of the model parameters (r, α,\u000b",
    "a,\u000b",
    "b) are obtained by maximizing the loglikelihood function given in (7) above.](https://brucehardie.com/papers/018/fader_et_al_mksc_05.pdf)\n",
    ":::\n",
    ":::"
   ]
  },
  {
   "cell_type": "markdown",
   "id": "dd0670eb-5098-40b0-9c99-822638aa9d09",
   "metadata": {},
   "source": [
    "## Excel?\n",
    "\n",
    "\n",
    "![](presentation-assets/excel.png){fig-align=\"center\"}\n",
    "\n",
    "> [This is very easy to code in Excel—see Figure 1 for\n",
    "complete details.](https://brucehardie.com/papers/018/fader_et_al_mksc_05.pdf)"
   ]
  },
  {
   "cell_type": "markdown",
   "id": "e15c16c7-b31a-4590-b915-88d04db89a81",
   "metadata": {},
   "source": [
    "## Or not\n",
    "\n",
    "``` {.python code-line-numbers=\"1-2,7\"}\n",
    "from autograd import value_and_grad\n",
    "from scipy.optimize import minimize\n",
    "\n",
    "def _fit(self, ...):\n",
    "    ...\n",
    "    output = minimize(\n",
    "        value_and_grad(self._negative_log_likelihood),\n",
    "        jac=True,\n",
    "        method=None,\n",
    "        tol=tol,\n",
    "        x0=current_init_params,\n",
    "        args=minimizing_function_args,\n",
    "        options=minimize_options,\n",
    "        bounds=bounds,\n",
    "    )\n",
    "```\n",
    "::: aside\n",
    "Source: [lifetimes](https://github.com/CamDavidsonPilon/lifetimes/blob/41e394923ad72b17b5da93e88cfabab43f51abe2/lifetimes/fitters/__init__.py#L94)\n",
    ":::"
   ]
  },
  {
   "cell_type": "markdown",
   "id": "8ed4ee72-ee8c-4a15-841f-49d7d4abe1bc",
   "metadata": {},
   "source": [
    "## sklearn\n",
    "<video data-autoplay src=\"presentation-assets/scikit-learn-imports.mov\" style=\"outline: unset;\"></video>"
   ]
  },
  {
   "cell_type": "markdown",
   "id": "10bff7eb-1c44-49de-a3dc-6a3d3a08160d",
   "metadata": {},
   "source": [
    "# Pause"
   ]
  },
  {
   "cell_type": "markdown",
   "id": "f2ebdec7-6141-4de5-93a9-6f132f673ba3",
   "metadata": {
    "editable": true,
    "slideshow": {
     "slide_type": "subslide"
    },
    "tags": []
   },
   "source": [
    "## Immaculate Grid\n",
    "\n",
    "![](presentation-assets/immaculate-grid.png){fig-align=\"center\"}"
   ]
  },
  {
   "cell_type": "markdown",
   "id": "c216bce2-2d78-47d4-a835-99e4c4fb13d0",
   "metadata": {
    "editable": true,
    "slideshow": {
     "slide_type": "subslide"
    },
    "tags": []
   },
   "source": [
    "## Immaculate Grid\n",
    "\n",
    "![](presentation-assets/immaculate-grid-partially-solved.png){fig-align=\"center\"}"
   ]
  },
  {
   "cell_type": "markdown",
   "id": "f747289e-e42d-43d2-9261-fe54708dc129",
   "metadata": {},
   "source": [
    "## Is this an optimization problem?\n",
    "\n",
    "<br>\n",
    "✅ **Objective**: Maximize number of boxes filled\n",
    "\n",
    "✅ **Decision variable**: Which players go in which boxes\n",
    "\n",
    "✅ **Constraints**: Players used once, one player per box, player must satisfy criteria"
   ]
  },
  {
   "cell_type": "markdown",
   "id": "45b064d6-3c94-4950-b36c-ed0f630ff5be",
   "metadata": {},
   "source": [
    "## Jamie Moyer{style=\"margin: 2em\"}"
   ]
  },
  {
   "cell_type": "markdown",
   "id": "d451f90b-d216-439c-abb3-ade3356eb406",
   "metadata": {},
   "source": [
    ":::: {.columns}\n",
    "\n",
    "::: {.column}\n",
    "![](presentation-assets/jamie-moyer.avif)\n",
    ":::\n",
    "\n",
    "::: {.column}\n",
    "|     |   PHI |   SEA |   STL |\n",
    "|:----|------:|------:|------:|\n",
    "| HOU |     0 |     0 |     0 |\n",
    "| COL |     1 |     1 |     1 |\n",
    "| KC  |     0 |     0 |     0 |\n",
    ":::\n",
    "\n",
    "::::"
   ]
  },
  {
   "cell_type": "markdown",
   "id": "5276d1fd-d930-4bf1-b393-878f279e59f0",
   "metadata": {},
   "source": [
    "## Book keeping\n",
    "\n",
    "![](presentation-assets/player-attributes.png)"
   ]
  },
  {
   "cell_type": "markdown",
   "id": "05725935-2de3-4933-b3e0-6d7fe550b9d7",
   "metadata": {},
   "source": [
    "## Decision variable"
   ]
  },
  {
   "cell_type": "markdown",
   "id": "1cafdb9d-9b11-41ab-b6b5-748defcbaf7d",
   "metadata": {},
   "source": [
    "::: {.absolute top=150 left=0 width=\"1120\" height=\"300\"}\n",
    "```{.python code-line-numbers=\"|8\"}\n",
    "import pyomo.environ as pyo\n",
    "\n",
    "x = []\n",
    "for (n, i, j), _ in np.ndenumerate(s):\n",
    "    name = f'x{n}_{i},{j}'\n",
    "    setattr(m, name, pyo.Var(domain=pyo.Binary))\n",
    "    x.append(getattr(m, name))\n",
    "x = np.array(x).reshape(s.shape)\n",
    "```\n",
    ":::\n",
    "\n",
    "::: {.absolute top=215 left=750 width=\"350\" height=\"300\"}\n",
    "::: {style=\"font-size:.7em\"}\n",
    "Each variable assigns each player $n$ to box $i,j$\n",
    "$\\\\x\\in\\{0,1\\}^{n,i,j}$\n",
    ":::\n",
    ":::"
   ]
  },
  {
   "cell_type": "markdown",
   "id": "2e35dac6-3f24-4157-b2b1-12fc810c0050",
   "metadata": {},
   "source": [
    "## Objective function\n",
    "\n",
    "::: {.absolute top=150 left=0 width=\"1120\" height=\"300\"}\n",
    "```{.python code-line-numbers=false}\n",
    "\n",
    "def objective(model):\n",
    "    return -x.sum()\n",
    "    \n",
    "```\n",
    ":::\n",
    "\n",
    "::: {.absolute top=145 left=470 width=\"1120\" height=\"300\"}\n",
    "::: {style=\"font-size: .7em\"}\n",
    "Maximize the number of boxes assigned to a player\n",
    "$\\\\\\underset{x}{\\text{argmin}} -\\sum_{n=1}^{N}{\\sum_{i=1}^{9}{\\sum_{j=1}^{9}{x_{n,i,j}}}}$\n",
    ":::\n",
    ":::"
   ]
  },
  {
   "cell_type": "markdown",
   "id": "2af5ce0d-562e-4d2b-b75f-ef5863295710",
   "metadata": {
    "jp-MarkdownHeadingCollapsed": true
   },
   "source": [
    "## Constraints\n",
    "\n",
    "::: {.absolute top=150 left=0 width=\"1120\" height=\"300\"}\n",
    "``` {.python code-line-numbers=\"1-3\"}\n",
    "m.c1 = pyo.ConstraintList()  \n",
    "for c in x.sum(axis=(1, 2)): \n",
    "    m.c1.add(c <= 1)\n",
    "\n",
    "\n",
    "m.c2 = pyo.ConstraintList()           \n",
    "for (n, i, j), _ in np.ndenumerate(s):\n",
    "   m.c2.add(x[n,i,j] <= s[n,i,j])\n",
    "\n",
    "\n",
    "m.c3 = pyo.ConstraintList()\n",
    "for c in x.sum(axis=0).ravel():\n",
    "    m.c3.add(c <= 1)\n",
    "```\n",
    ":::\n",
    "\n",
    "::: {.absolute top=137 left=625 width=\"565\" height=\"300\"}\n",
    "::: {style=\"font-size: .7em\"}\n",
    "Each player assigned to at most one box\n",
    "$\\sum_{i=1}^{9}{\\sum_{j=1}^{9}{x_{n,i,j}}}=1,\\ \\forall n$ \n",
    ":::\n",
    ":::\n",
    "\n",
    "::: {.absolute top=270 left=625 width=\"565\" height=\"300\"}\n",
    "::: {style=\"font-size: .7em; color: #80808080\"}\n",
    "Player must satisfy criteria\n",
    "$\\\\x_{n,i,j}\\le s_{n,i,j}$ \n",
    ":::\n",
    ":::\n",
    "\n",
    ":::{.absolute top=412 left=625 width=\"600\" height=\"300\"}\n",
    "::: {style=\"font-size: .7em; color: #80808080\"}\n",
    "Each box assigned at most one player\n",
    "$\\\\\\sum_{n=1}^{N}{x_{n,i,j}}\\leq 1, \\forall i,j$\n",
    ":::\n",
    ":::"
   ]
  },
  {
   "cell_type": "markdown",
   "id": "a93c3a8d-aa92-4042-b7c4-f1694c266d8b",
   "metadata": {
    "jp-MarkdownHeadingCollapsed": true
   },
   "source": [
    "## Constraints {auto-animate=true auto-animate-duration=0}\n",
    "\n",
    "::: {.absolute top=150 left=0 width=\"1120\" height=\"300\"}\n",
    "``` {.python code-line-numbers=\"6-8\"}\n",
    "m.c1 = pyo.ConstraintList()  \n",
    "for c in x.sum(axis=(1, 2)): \n",
    "    m.c1.add(c <= 1)\n",
    "\n",
    "\n",
    "m.c2 = pyo.ConstraintList()           \n",
    "for (n, i, j), _ in np.ndenumerate(s):\n",
    "   m.c2.add(x[n,i,j] <= s[n,i,j])\n",
    "\n",
    "\n",
    "m.c3 = pyo.ConstraintList()\n",
    "for c in x.sum(axis=0).ravel():\n",
    "    m.c3.add(c <= 1)\n",
    "```\n",
    ":::\n",
    "\n",
    "::: {.absolute top=137 left=625 width=\"565\" height=\"300\"}\n",
    "::: {style=\"font-size: .7em; color: #80808080\"}\n",
    "Each player assigned to at most one box\n",
    "$\\sum_{i=1}^{9}{\\sum_{j=1}^{9}{x_{n,i,j}}}=1,\\ \\forall n$ \n",
    ":::\n",
    ":::\n",
    "\n",
    "::: {.absolute top=270 left=625 width=\"565\" height=\"300\"}\n",
    "::: {style=\"font-size: .7em;\"}\n",
    "Player must satisfy criteria\n",
    "$\\\\x_{n,i,j}\\le s_{n,i,j}$ \n",
    ":::\n",
    ":::\n",
    "\n",
    ":::{.absolute top=412 left=625 width=\"600\" height=\"300\"}\n",
    "::: {style=\"font-size: .7em; color: #80808080\"}\n",
    "Each box assigned at most one player\n",
    "$\\\\\\sum_{n=1}^{N}{x_{n,i,j}}\\leq 1, \\forall i,j$\n",
    ":::\n",
    ":::"
   ]
  },
  {
   "cell_type": "markdown",
   "id": "4245bbf0-8463-4d00-8637-669bae84ca31",
   "metadata": {
    "jp-MarkdownHeadingCollapsed": true
   },
   "source": [
    "## Constraints {auto-animate=true auto-animate-duration=0}\n",
    "\n",
    "::: {.absolute top=150 left=0 width=\"1120\" height=\"300\"}\n",
    "``` {.python code-line-numbers=\"10-13\"}\n",
    "m.c1 = pyo.ConstraintList()  \n",
    "for c in x.sum(axis=(1, 2)): \n",
    "    m.c1.add(c <= 1)\n",
    "\n",
    "\n",
    "m.c2 = pyo.ConstraintList()           \n",
    "for (n, i, j), _ in np.ndenumerate(s):\n",
    "   m.c2.add(x[n,i,j] <= s[n,i,j])\n",
    "\n",
    "\n",
    "m.c3 = pyo.ConstraintList()\n",
    "for c in x.sum(axis=0).ravel():\n",
    "    m.c3.add(c <= 1)\n",
    "```\n",
    ":::\n",
    "\n",
    "::: {.absolute top=137 left=625 width=\"565\" height=\"300\"}\n",
    "::: {style=\"font-size: .7em; color: #80808080\"}\n",
    "Each player assigned to at most one box\n",
    "$\\sum_{i=1}^{9}{\\sum_{j=1}^{9}{x_{n,i,j}}}=1,\\ \\forall n$ \n",
    ":::\n",
    ":::\n",
    "\n",
    "::: {.absolute top=270 left=625 width=\"565\" height=\"300\"}\n",
    "::: {style=\"font-size: .7em; color: #80808080\"}\n",
    "Player must satisfy criteria\n",
    "$\\\\x_{n,i,j}\\le s_{n,i,j}$ \n",
    ":::\n",
    ":::\n",
    "\n",
    ":::{.absolute top=412 left=625 width=\"600\" height=\"300\"}\n",
    "::: {style=\"font-size: .7em;\"}\n",
    "Each box assigned at most one player\n",
    "$\\\\\\sum_{n=1}^{N}{x_{n,i,j}}\\leq 1, \\forall i,j$\n",
    ":::\n",
    ":::"
   ]
  },
  {
   "cell_type": "markdown",
   "id": "42579b54-85a9-4ac2-a366-5ff61c68b802",
   "metadata": {},
   "source": [
    "## Constraints {auto-animate=true auto-animate-duration=0}\n",
    "\n",
    "::: {.absolute top=150 left=0 width=\"1120\" height=\"300\"}\n",
    "```python\n",
    "m.c1 = pyo.ConstraintList()  \n",
    "for c in x.sum(axis=(1, 2)): \n",
    "    m.c1.add(c <= 1)\n",
    "\n",
    "\n",
    "m.c2 = pyo.ConstraintList()           \n",
    "for (n, i, j), _ in np.ndenumerate(s):\n",
    "   m.c2.add(x[n,i,j] <= s[n,i,j])\n",
    "\n",
    "\n",
    "m.c3 = pyo.ConstraintList()\n",
    "for c in x.sum(axis=0).ravel():\n",
    "    m.c3.add(c <= 1)\n",
    "```\n",
    ":::\n",
    "\n",
    "::: {.absolute top=137 left=625 width=\"565\" height=\"300\"}\n",
    "::: {style=\"font-size: .7em;\"}\n",
    "Each player assigned to at most one box\n",
    "$\\sum_{i=1}^{9}{\\sum_{j=1}^{9}{x_{n,i,j}}}=1,\\ \\forall n$ \n",
    ":::\n",
    ":::\n",
    "\n",
    "::: {.absolute top=270 left=625 width=\"565\" height=\"300\"}\n",
    "::: {style=\"font-size: .7em;\"}\n",
    "Player must satisfy criteria\n",
    "$\\\\x_{n,i,j}\\le s_{n,i,j}$ \n",
    ":::\n",
    ":::\n",
    "\n",
    ":::{.absolute top=412 left=625 width=\"600\" height=\"300\"}\n",
    "::: {style=\"font-size: .7em;\"}\n",
    "Each box assigned at most one player\n",
    "$\\\\\\sum_{n=1}^{N}{x_{n,i,j}}\\leq 1, \\forall i,j$\n",
    ":::\n",
    ":::"
   ]
  },
  {
   "cell_type": "markdown",
   "id": "cb5c7098-ad47-41ce-8d0b-0f5925943eab",
   "metadata": {
    "editable": true,
    "slideshow": {
     "slide_type": "slide"
    },
    "tags": []
   },
   "source": [
    "<!-- # Cryptograms\n",
    "\n",
    "> THE GREAT SHIPS HUNG MOTIONLESS IN THE AIR,...\n",
    "> \n",
    "> A BLASPHEMY AGAINST NATURE...\n",
    "> \n",
    "> THE SHIPS HUNG IN THE SKY IN MUCH THE SAME WAY THAT RICKS DON'T -->"
   ]
  },
  {
   "cell_type": "markdown",
   "id": "862de0fb-da56-4156-9f0c-f2fd478f5ead",
   "metadata": {},
   "source": [
    "# Pause"
   ]
  },
  {
   "cell_type": "markdown",
   "id": "afc949fd-fe8a-44eb-87a1-bca63af7d687",
   "metadata": {},
   "source": [
    "## Cryptograms\n",
    "\n",
    ":::{.absolute top=200}\n",
    "<video data-autoplay src=\"presentation-assets/encryption.mov\" style=\"outline: unset;\"></video>\n",
    ":::\n",
    "\n",
    "![](presentation-assets/cipher.png){.absolute top=20 left=800 width=400}"
   ]
  },
  {
   "cell_type": "markdown",
   "id": "b7a802c2-5aaf-4c48-b499-42cdb0e04b12",
   "metadata": {},
   "source": [
    "## Is this an optimization problem?\n",
    "\n",
    "<br>\n",
    "\n",
    "❓ **Objective**: The most matches?\n",
    "\n",
    "✅ **Decision variable**: The cipher\n",
    "\n",
    "✅ **Constraints**: Cipher is 1-1 mapping"
   ]
  },
  {
   "cell_type": "markdown",
   "id": "fccc56bd-b597-470c-92a6-5fab1e035cda",
   "metadata": {},
   "source": [
    "## Dictionary matches\n",
    "\n",
    "![](presentation-assets/dictionary-matches.png)"
   ]
  },
  {
   "cell_type": "markdown",
   "id": "279a60eb-027c-4c25-93fe-a4029d42212f",
   "metadata": {},
   "source": [
    "## Scale\n",
    "\n",
    "![](presentation-assets/dictionary-matches-scale.png)"
   ]
  },
  {
   "cell_type": "markdown",
   "id": "df56769e-6c2a-4c05-a4f6-90bc80950642",
   "metadata": {},
   "source": [
    "## A different perspective\n",
    "\n",
    "\n",
    "![](presentation-assets/cryptogram-likelihood-graph.png)"
   ]
  },
  {
   "cell_type": "markdown",
   "id": "10691c06-a9b3-4598-9601-7781f7efbe50",
   "metadata": {
    "jp-MarkdownHeadingCollapsed": true
   },
   "source": [
    "## Hello, old friend{auto-animate=true}\n",
    "\n",
    "$$\n",
    "P(w^{\\prime}\\vert \\pi)=\\sum_{w\\in W}^{}{P(w^{\\prime}\\vert \\pi, w)P(w)}\n",
    "$$"
   ]
  },
  {
   "cell_type": "markdown",
   "id": "eae2f439-76da-49f2-982a-322641b5a7de",
   "metadata": {},
   "source": [
    "## Hello, old friend{auto-animate=true}\n",
    "\n",
    "$$\n",
    "\\begin{align*}\n",
    "P(w^{\\prime}\\vert \\pi)&=\\sum_{w\\in W}^{}{P(w^{\\prime}\\vert \\pi, w)P(w)}\\\\\n",
    "&= \\sum_{w\\in W}^{}{w^{\\prime}\\pi^{T}w P(w)}\n",
    "\\end{align*}\n",
    "$$"
   ]
  },
  {
   "cell_type": "markdown",
   "id": "0e5631b5-39ba-4ade-b669-8f01e29a4c38",
   "metadata": {},
   "source": [
    "## Permutation matrix\n",
    "\n",
    "![](presentation-assets/cipher.png)\n",
    "![](presentation-assets/permutation-matrix.png){.absolute top=100 left=600 width=475}"
   ]
  },
  {
   "cell_type": "markdown",
   "id": "14d86e58-3ac6-4368-a72d-4415e5f5d411",
   "metadata": {},
   "source": [
    "## Computation\n",
    "\n",
    "```python\n",
    "def negative_log_likelihood(π, X, V, mask):\n",
    "    \"\"\"\n",
    "    π: (n, n) permutation matrix\n",
    "    X: (m, L, n) vectorized text\n",
    "    V: (D, L, n) vectorized dictionary\n",
    "    F: (D,) dictionary log frequencies\n",
    "    mask: (m, D) boolean mask indicating which values in dictionary\n",
    "          could not possibly match w'\n",
    "    \"\"\"\n",
    "    Xt = X @ π\n",
    "    matches = torch.tensordot(torch.log(X+ϵ), V, dims=[[1, 2], [1, 2]])\n",
    "    return (matches + F[None, :]) * mask\n",
    "```\n",
    "\n",
    "$$\n",
    "P(w^{\\prime}\\vert \\pi) = \\sum_{w}^{}{w^{\\prime}\\pi^{T}w P(w)}\n",
    "$$"
   ]
  },
  {
   "cell_type": "markdown",
   "id": "94261382-d97d-4ed9-b27e-4699cec56ac3",
   "metadata": {},
   "source": [
    "## It liiiiiives\n",
    "\n",
    "![](presentation-assets/cryptogram-training-loss.png)"
   ]
  },
  {
   "cell_type": "markdown",
   "id": "39ea6c35-4ed5-423e-9ebd-bedc6725c3a1",
   "metadata": {},
   "source": [
    "## Now what?\n",
    "\n",
    "<br>\n",
    "\n",
    "::: {.fragment}\n",
    "```python{code-line-numbers=\"1,5\"}\n",
    "from scipy.optimize import linear_sum_assignment\n",
    "\n",
    "cipher = {\n",
    "    ALPHABET[i]: ALPHABET[j]\n",
    "    for i, j in zip(*linear_sum_assignment(π_max, maximize=True))\n",
    "}\n",
    "```\n",
    ":::"
   ]
  },
  {
   "cell_type": "markdown",
   "id": "b06eb677-98fd-4efd-8663-02601bddf2d2",
   "metadata": {},
   "source": [
    "## Does it work?\n",
    "\n",
    "> 'THE GREAT SHI<u>L</u>S HUNG <u>P</u>OTION<u>M</u>ESS IN THE AIR, OVER EVERY NATION ON EARTH.'"
   ]
  },
  {
   "cell_type": "markdown",
   "id": "d9d04e25-9e5c-4383-84c1-669ab94d4e79",
   "metadata": {},
   "source": [
    "## Does it work?\n",
    "\n",
    "> THE GREAT SHIPS HUNG MOTIONLESS IN THE AIR, OVER EVERY NATION ON EARTH. MOTIONLESS THEY HUNG, HUGE, HEAVY, STEADY IN THE SKY, A BLASPHEMY AGAINST NATURE. MANY PEOPLE WENT STRAIGHT INTO SHOCK AS THEIR MINDS TRIED TO ENCOMPASS WHAT THEY WERE LOOKING AT. THE SHIPS HUNG IN THE SKY IN MUCH THE SAME WAY THAT BRICKS DON'T."
   ]
  },
  {
   "cell_type": "markdown",
   "id": "b1821aeb-8ca2-4b9a-82d2-ca9296a1e391",
   "metadata": {
    "editable": true,
    "slideshow": {
     "slide_type": ""
    },
    "tags": []
   },
   "source": [
    "# Motivating Examples From Industry\n",
    "# Health Care\n",
    "# AdTech"
   ]
  },
  {
   "cell_type": "markdown",
   "id": "8b4e5fec-3fdc-4f96-b536-d57f3f7c8e52",
   "metadata": {},
   "source": [
    "# Takeaway"
   ]
  },
  {
   "cell_type": "markdown",
   "id": "4dd8a59b-8841-4d2f-8eba-678e11abc33a",
   "metadata": {},
   "source": [
    "## Optimization is like this picture of icicles\n",
    "\n",
    "![](presentation-assets/icicles.avif)"
   ]
  },
  {
   "cell_type": "markdown",
   "id": "e8b2537b-70a1-4301-aa9e-223cefdc2dd9",
   "metadata": {
    "jp-MarkdownHeadingCollapsed": true
   },
   "source": [
    "## \"ML Optimization\" is like my thumb {auto-animate=true}\n",
    "\n",
    "![](presentation-assets/icicles-thumb.png)\n"
   ]
  },
  {
   "cell_type": "markdown",
   "id": "9d77741e-0c04-4685-ae55-c6d90603bf71",
   "metadata": {
    "jp-MarkdownHeadingCollapsed": true
   },
   "source": [
    "## Or maybe auto focus {auto-animate=true}\n",
    "\n",
    "::: {.r-stack}\n",
    "![](presentation-assets/icicles-thumb.png){width=1050}\n",
    "\n",
    "![](presentation-assets/auto-focus.gif){width=\"80%\"}\n",
    ":::"
   ]
  },
  {
   "cell_type": "markdown",
   "id": "750f3018-bd72-4cfa-8242-c5dcc13ad4c2",
   "metadata": {
    "editable": true,
    "slideshow": {
     "slide_type": "slide"
    },
    "tags": []
   },
   "source": [
    "# Appendix\n",
    "\n",
    "- Perpay is hiring\n",
    "- Link to slides\n",
    "- Resources"
   ]
  },
  {
   "cell_type": "markdown",
   "id": "7a69ce11-48d6-4325-ab52-9634bf2c7b55",
   "metadata": {},
   "source": [
    "## As Seen on Machine Learning\n",
    "\n",
    "::: {.center style=\"font-size: .8em;\"}\n",
    "<table>\n",
    "    <tr>\n",
    "        <td>\n",
    "            Constraint\n",
    "        </td>\n",
    "        <td></td>\n",
    "        <td>\n",
    "            Transformation\n",
    "        </td>\n",
    "        <td></td>\n",
    "    </tr>\n",
    "    <tr>\n",
    "        <td>\n",
    "            $f(\\theta)\\in [0, 1]$\n",
    "        </td>\n",
    "        <td>\n",
    "            $\\rightarrow$\n",
    "        </td>\n",
    "        <td>\n",
    "            $\\frac{1}{1+e^{-x}}$\n",
    "        </td>\n",
    "        <td>\n",
    "            sigmoid\n",
    "        </td>\n",
    "    </tr>\n",
    "    <tr>\n",
    "        <td>\n",
    "            $f(\\theta)\\in R^{+}$\n",
    "        </td>\n",
    "        <td>\n",
    "            $\\rightarrow$\n",
    "        </td>\n",
    "        <td>\n",
    "            $ln(1+e^{x})$\n",
    "        </td>\n",
    "        <td>\n",
    "            softplus\n",
    "        </td>\n",
    "    </tr>\n",
    "    <tr>\n",
    "        <td>\n",
    "            $f(\\theta)\\in [0, 1]^{n}, \\langle f(\\theta),\\textbf{1}\\rangle=1$\n",
    "        </td>\n",
    "        <td>\n",
    "            $\\rightarrow$\n",
    "        </td>\n",
    "        <td>\n",
    "            $\\frac{e^{x_{i}}}{\\sum_{j}^{K}{e^{x_{j}}}}$\n",
    "        </td>\n",
    "        <td>\n",
    "            softmax\n",
    "        </td>\n",
    "    </tr>\n",
    "</table>\n",
    ":::"
   ]
  },
  {
   "cell_type": "markdown",
   "id": "d1c12c91-3b51-41c0-8644-a8b549183b4b",
   "metadata": {},
   "source": [
    "## As seen on machine learning transformations\n",
    "\n",
    "$$\\sigma(x)=\\frac{1}{1+e^{-x}}$$\n",
    "\n",
    "$$s\\left(\\overset{\\rightarrow}{z}\\right)_{i}=\\frac{e^{z_{i}}}{\\sum_{j}^{K}{e^{z_{j}}}}$$\n",
    "\n",
    "$$f(x)=\\text{ln}(1+e^{x})$$\n",
    "\n",
    "$$f(\\theta)=\\sum_{k=1}^{\\infty}{\\beta_{k}\\cdot\\delta_{\\theta_{k}}(\\theta)}$$\n",
    "\n",
    "$$\\underset{w}{\\text{argmin}}\\  \\mathcal{L}(f(w),y) + \\lambda \\lVert w\\rVert^{2}_{2}$$"
   ]
  },
  {
   "cell_type": "markdown",
   "id": "8284439e-e371-4567-b2e5-a308c22ba3e9",
   "metadata": {},
   "source": [
    "# Lifetimes"
   ]
  },
  {
   "cell_type": "markdown",
   "id": "7532c70f-b952-4ea9-961d-38704ab664e1",
   "metadata": {},
   "source": [
    "## CLV\n",
    "\n",
    "Imagine a customer with $x$ transactions during the period $(0,T]$\n",
    "\n",
    "- Can we estimate the customer's future lifetime value?\n",
    "- How many more transactions will they generate before they churn?\n",
    "\n",
    "![](presentation-assets/clv.png)"
   ]
  },
  {
   "cell_type": "markdown",
   "id": "2ff3ecfa-5516-4149-9551-703295adb9f0",
   "metadata": {},
   "source": [
    "## CLV: Beta-Geo Model\n",
    "\n",
    "![](presentation-assets/beta-geo.png)"
   ]
  },
  {
   "cell_type": "markdown",
   "id": "1aa9b93c-7104-4926-a60b-41515dc0a7a2",
   "metadata": {
    "editable": true,
    "jp-MarkdownHeadingCollapsed": true,
    "slideshow": {
     "slide_type": ""
    },
    "tags": []
   },
   "source": [
    "## Simple Example\n",
    "$$\n",
    "\\begin{align*}\n",
    "\\underset{\\theta}{\\text{argmin}}&\\ f({\\theta, X}) &\\text{Objective Function}\\\\\n",
    "\\text{s.t.}& &\\text{Subject to}\\\\\n",
    "&\\ \\theta_{i}\\in{\\mathbb{Z}^{+}} &\\text{Assign entire resources}\\\\\n",
    "&\\ \\theta_{i}>0 &\\text{Non-negativity}\\\\\n",
    "&\\ \\sum_{i=1}^{n}{\\theta_{i}} < B &\\text{Budget} \\\\\n",
    "\\end{align*}\n",
    "$$"
   ]
  },
  {
   "cell_type": "markdown",
   "id": "e489c0c3-0beb-442d-9fd1-08fbd49f09f2",
   "metadata": {
    "editable": true,
    "slideshow": {
     "slide_type": "slide"
    },
    "tags": []
   },
   "source": [
    "## Tips\n",
    "### Absolute Value"
   ]
  },
  {
   "cell_type": "markdown",
   "id": "c7c7746a-0a39-4c30-999c-a6499ff40d30",
   "metadata": {
    "editable": true,
    "slideshow": {
     "slide_type": "skip"
    },
    "tags": []
   },
   "source": [
    "$$\n",
    "\\begin{align}\n",
    "\\underset{A\\in{\\{0,1\\}}^{n,m}}{\\text{argmin}}\\ \\sum_{i=1}^{n}{U_{i}}&&\\\\\n",
    "&g_{t}-\\sum_{j=1}^{m}{A_{i,j}M_{j}}\\leq U_{i} & i=1\\ldots n \\\\\n",
    "&g_{t}-\\sum_{j=1}^{m}{A_{i,j}M_{j}}\\geq -U_{i} & i=1\\ldots n \\\\\n",
    "\\end{align}\n",
    "$$"
   ]
  },
  {
   "cell_type": "markdown",
   "id": "67ccb46f-37b2-4121-9c14-23393e497831",
   "metadata": {},
   "source": [
    "## Objective function: likelihood\n",
    "\n",
    "::: {.incremental}\n",
    "- ~Character frequency~\n",
    "- ~Word frequency~\n",
    "- Conditional probability\n",
    ":::"
   ]
  },
  {
   "cell_type": "markdown",
   "id": "36d3d1f3-b33e-440b-9317-b1fad71a9cde",
   "metadata": {},
   "source": [
    "## Model fitting\n",
    "\n",
    "```python\n",
    "from tqdm.notebook import tqdm\n",
    "\n",
    "def doubly_stochastic_constraint(π):\n",
    "    return sum(\n",
    "        (1 - π.sum(axis=axis)).abs().sum()\n",
    "        for axis in [0, 1]\n",
    "    )\n",
    "\n",
    "last_loss = np.inf\n",
    "with tqdm(range(10_000)) as pbar:\n",
    "    for _ in pbar:\n",
    "        π = make_π(σ)\n",
    "        loss = (\n",
    "            -score(π, X, V, mask).mean()\n",
    "            + doubly_stochastic_constraint(π)\n",
    "        )\n",
    "        loss.retain_grad()\n",
    "        # Backpropagation\n",
    "        loss.backward()\n",
    "        optimizer.step()\n",
    "        optimizer.zero_grad()\n",
    "        loss = loss.item()\n",
    "        pbar.set_postfix(loss=f'{loss:>7f}')\n",
    "        if abs(last_loss - loss) < 1e-8:\n",
    "            break\n",
    "        last_loss = loss\n",
    "```"
   ]
  }
 ],
 "metadata": {
  "kernelspec": {
   "display_name": "default",
   "language": "python",
   "name": "default"
  },
  "language_info": {
   "codemirror_mode": {
    "name": "ipython",
    "version": 3
   },
   "file_extension": ".py",
   "mimetype": "text/x-python",
   "name": "python",
   "nbconvert_exporter": "python",
   "pygments_lexer": "ipython3",
   "version": "3.9.17"
  }
 },
 "nbformat": 4,
 "nbformat_minor": 5
}
