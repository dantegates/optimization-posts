{
 "cells": [
  {
   "cell_type": "raw",
   "id": "58df0c3d-1a84-4c75-918e-3f6d7996aba3",
   "metadata": {},
   "source": [
    "---\n",
    "title: >\n",
    "  What makes optimization special?<h3 style=\"margin: 0\">(and why should I care?)</h3>\n",
    "subtitle: <br>Data Philly, Feb. 2024<br>Dante Gates\n",
    "format:\n",
    "  revealjs:\n",
    "\n",
    "    html-math-method: katex\n",
    "    auto-stretch: true\n",
    "    fig-align: center\n",
    "    highlight-style: github-light\n",
    "  html:\n",
    "    embed-resources: true\n",
    "---"
   ]
  },
  {
   "cell_type": "markdown",
   "id": "750f3018-bd72-4cfa-8242-c5dcc13ad4c2",
   "metadata": {
    "editable": true,
    "slideshow": {
     "slide_type": "slide"
    },
    "tags": []
   },
   "source": [
    "# Appendix\n",
    "\n",
    "- Perpay is hiring\n",
    "- Link to slides\n",
    "- Resources"
   ]
  },
  {
   "cell_type": "markdown",
   "id": "7a69ce11-48d6-4325-ab52-9634bf2c7b55",
   "metadata": {},
   "source": [
    "## As Seen on Machine Learning\n",
    "\n",
    "::: {.center style=\"font-size: .8em;\"}\n",
    "<table>\n",
    "    <tr>\n",
    "        <td>\n",
    "            Constraint\n",
    "        </td>\n",
    "        <td></td>\n",
    "        <td>\n",
    "            Transformation\n",
    "        </td>\n",
    "        <td></td>\n",
    "    </tr>\n",
    "    <tr>\n",
    "        <td>\n",
    "            $f(\\theta)\\in [0, 1]$\n",
    "        </td>\n",
    "        <td>\n",
    "            $\\rightarrow$\n",
    "        </td>\n",
    "        <td>\n",
    "            $\\frac{1}{1+e^{-x}}$\n",
    "        </td>\n",
    "        <td>\n",
    "            sigmoid\n",
    "        </td>\n",
    "    </tr>\n",
    "    <tr>\n",
    "        <td>\n",
    "            $f(\\theta)\\in R^{+}$\n",
    "        </td>\n",
    "        <td>\n",
    "            $\\rightarrow$\n",
    "        </td>\n",
    "        <td>\n",
    "            $ln(1+e^{x})$\n",
    "        </td>\n",
    "        <td>\n",
    "            softplus\n",
    "        </td>\n",
    "    </tr>\n",
    "    <tr>\n",
    "        <td>\n",
    "            $f(\\theta)\\in [0, 1]^{n}, \\langle f(\\theta),\\textbf{1}\\rangle=1$\n",
    "        </td>\n",
    "        <td>\n",
    "            $\\rightarrow$\n",
    "        </td>\n",
    "        <td>\n",
    "            $\\frac{e^{x_{i}}}{\\sum_{j}^{K}{e^{x_{j}}}}$\n",
    "        </td>\n",
    "        <td>\n",
    "            softmax\n",
    "        </td>\n",
    "    </tr>\n",
    "</table>\n",
    ":::"
   ]
  },
  {
   "cell_type": "markdown",
   "id": "d1c12c91-3b51-41c0-8644-a8b549183b4b",
   "metadata": {},
   "source": [
    "## As seen on machine learning transformations\n",
    "\n",
    "$$\\sigma(x)=\\frac{1}{1+e^{-x}}$$\n",
    "\n",
    "$$s\\left(\\overset{\\rightarrow}{z}\\right)_{i}=\\frac{e^{z_{i}}}{\\sum_{j}^{K}{e^{z_{j}}}}$$\n",
    "\n",
    "$$f(x)=\\text{ln}(1+e^{x})$$\n",
    "\n",
    "$$f(\\theta)=\\sum_{k=1}^{\\infty}{\\beta_{k}\\cdot\\delta_{\\theta_{k}}(\\theta)}$$\n",
    "\n",
    "$$\\underset{w}{\\text{argmin}}\\  \\mathcal{L}(f(w),y) + \\lambda \\lVert w\\rVert^{2}_{2}$$"
   ]
  },
  {
   "cell_type": "markdown",
   "id": "8284439e-e371-4567-b2e5-a308c22ba3e9",
   "metadata": {},
   "source": [
    "# Lifetimes"
   ]
  },
  {
   "cell_type": "markdown",
   "id": "7532c70f-b952-4ea9-961d-38704ab664e1",
   "metadata": {},
   "source": [
    "## CLV\n",
    "\n",
    "Imagine a customer with $x$ transactions during the period $(0,T]$\n",
    "\n",
    "- Can we estimate the customer's future lifetime value?\n",
    "- How many more transactions will they generate before they churn?\n",
    "\n",
    "![](presentation-assets/clv.png)"
   ]
  },
  {
   "cell_type": "markdown",
   "id": "2ff3ecfa-5516-4149-9551-703295adb9f0",
   "metadata": {},
   "source": [
    "## CLV: Beta-Geo Model\n",
    "\n",
    "![](presentation-assets/beta-geo.png)"
   ]
  },
  {
   "cell_type": "markdown",
   "id": "1aa9b93c-7104-4926-a60b-41515dc0a7a2",
   "metadata": {
    "editable": true,
    "jp-MarkdownHeadingCollapsed": true,
    "slideshow": {
     "slide_type": ""
    },
    "tags": []
   },
   "source": [
    "## Simple Example\n",
    "$$\n",
    "\\begin{align*}\n",
    "\\underset{\\theta}{\\text{argmin}}&\\ f({\\theta, X}) &\\text{Objective Function}\\\\\n",
    "\\text{s.t.}& &\\text{Subject to}\\\\\n",
    "&\\ \\theta_{i}\\in{\\mathbb{Z}^{+}} &\\text{Assign entire resources}\\\\\n",
    "&\\ \\theta_{i}>0 &\\text{Non-negativity}\\\\\n",
    "&\\ \\sum_{i=1}^{n}{\\theta_{i}} < B &\\text{Budget} \\\\\n",
    "\\end{align*}\n",
    "$$"
   ]
  },
  {
   "cell_type": "markdown",
   "id": "e489c0c3-0beb-442d-9fd1-08fbd49f09f2",
   "metadata": {
    "editable": true,
    "slideshow": {
     "slide_type": "slide"
    },
    "tags": []
   },
   "source": [
    "## Tips\n",
    "### Absolute Value"
   ]
  },
  {
   "cell_type": "markdown",
   "id": "c7c7746a-0a39-4c30-999c-a6499ff40d30",
   "metadata": {
    "editable": true,
    "slideshow": {
     "slide_type": "skip"
    },
    "tags": []
   },
   "source": [
    "$$\n",
    "\\begin{align}\n",
    "\\underset{A\\in{\\{0,1\\}}^{n,m}}{\\text{argmin}}\\ \\sum_{i=1}^{n}{U_{i}}&&\\\\\n",
    "&g_{t}-\\sum_{j=1}^{m}{A_{i,j}M_{j}}\\leq U_{i} & i=1\\ldots n \\\\\n",
    "&g_{t}-\\sum_{j=1}^{m}{A_{i,j}M_{j}}\\geq -U_{i} & i=1\\ldots n \\\\\n",
    "\\end{align}\n",
    "$$"
   ]
  },
  {
   "cell_type": "markdown",
   "id": "67ccb46f-37b2-4121-9c14-23393e497831",
   "metadata": {},
   "source": [
    "## Objective function: likelihood\n",
    "\n",
    "::: {.incremental}\n",
    "- ~Character frequency~\n",
    "- ~Word frequency~\n",
    "- Conditional probability\n",
    ":::"
   ]
  },
  {
   "cell_type": "markdown",
   "id": "36d3d1f3-b33e-440b-9317-b1fad71a9cde",
   "metadata": {},
   "source": [
    "## Model fitting\n",
    "\n",
    "```python\n",
    "from tqdm.notebook import tqdm\n",
    "\n",
    "def doubly_stochastic_constraint(π):\n",
    "    return sum(\n",
    "        (1 - π.sum(axis=axis)).abs().sum()\n",
    "        for axis in [0, 1]\n",
    "    )\n",
    "\n",
    "last_loss = np.inf\n",
    "with tqdm(range(10_000)) as pbar:\n",
    "    for _ in pbar:\n",
    "        π = make_π(σ)\n",
    "        loss = (\n",
    "            -score(π, X, V, mask).mean()\n",
    "            + doubly_stochastic_constraint(π)\n",
    "        )\n",
    "        loss.retain_grad()\n",
    "        # Backpropagation\n",
    "        loss.backward()\n",
    "        optimizer.step()\n",
    "        optimizer.zero_grad()\n",
    "        loss = loss.item()\n",
    "        pbar.set_postfix(loss=f'{loss:>7f}')\n",
    "        if abs(last_loss - loss) < 1e-8:\n",
    "            break\n",
    "        last_loss = loss\n",
    "```"
   ]
  }
 ],
 "metadata": {
  "kernelspec": {
   "display_name": "default",
   "language": "python",
   "name": "default"
  },
  "language_info": {
   "codemirror_mode": {
    "name": "ipython",
    "version": 3
   },
   "file_extension": ".py",
   "mimetype": "text/x-python",
   "name": "python",
   "nbconvert_exporter": "python",
   "pygments_lexer": "ipython3",
   "version": "3.9.17"
  }
 },
 "nbformat": 4,
 "nbformat_minor": 5
}
