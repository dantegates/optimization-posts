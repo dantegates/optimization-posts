{
 "cells": [
  {
   "cell_type": "raw",
   "id": "58df0c3d-1a84-4c75-918e-3f6d7996aba3",
   "metadata": {},
   "source": [
    "---\n",
    "title: >\n",
    "  What makes optimization special?<h3 style=\"margin: 0\">(and why should I care?)</h3>\n",
    "subtitle: <br>Data Philly, Feb. 2024<br>Dante Gates\n",
    "format:\n",
    "  revealjs:\n",
    "    html-math-method: katex\n",
    "    auto-stretch: true\n",
    "    fig-align: center\n",
    "    highlight-style: github\n",
    "---"
   ]
  },
  {
   "cell_type": "markdown",
   "id": "f7a940db-45a6-47ec-91ee-a42658706dad",
   "metadata": {},
   "source": [
    "# Claim"
   ]
  },
  {
   "cell_type": "markdown",
   "id": "3c71c1d5-3e21-4c41-814f-5c0c3acf07ac",
   "metadata": {},
   "source": [
    "## Optimization is like this picture of icicles {.r-fit-text}\n",
    "\n",
    "![](presentation-assets/icicles.avif)"
   ]
  },
  {
   "cell_type": "markdown",
   "id": "198b8373-2c4f-4ee7-adea-7367aa7fc9d9",
   "metadata": {
    "editable": true,
    "slideshow": {
     "slide_type": "slide"
    },
    "tags": []
   },
   "source": [
    "# Background"
   ]
  },
  {
   "cell_type": "markdown",
   "id": "da3bf0b4-f317-4961-b25c-a96d64153fdd",
   "metadata": {
    "editable": true,
    "slideshow": {
     "slide_type": "slide"
    },
    "tags": []
   },
   "source": [
    "## As Seen on Machine Learning\n",
    "![](presentation-assets/as-seen-on-ml.png)"
   ]
  },
  {
   "cell_type": "markdown",
   "id": "bfc51ed7-4f09-42a8-9618-f087bd045ff0",
   "metadata": {
    "editable": true,
    "jp-MarkdownHeadingCollapsed": true,
    "slideshow": {
     "slide_type": "subslide"
    },
    "tags": []
   },
   "source": [
    "## As Seen on Machine Learning\n",
    "\n",
    "![](presentation-assets/as-seen-on-ml-packages.png)"
   ]
  },
  {
   "cell_type": "markdown",
   "id": "a2cc4453-4728-4254-980a-dd91c60466de",
   "metadata": {
    "editable": true,
    "slideshow": {
     "slide_type": "subslide"
    },
    "tags": []
   },
   "source": [
    "## As Seen on Machine Learning {auto-animate=true}\n",
    "\n",
    "::: {style=\"margin-top: 2em\"}\n",
    "\n",
    "Objective function\n",
    "\n",
    "\n",
    "$$\n",
    "\\underset{\\theta}{\\text{argmin}}\\ \\mathcal{L}(y,f(\\theta))\n",
    "$$\n",
    "\n",
    ":::"
   ]
  },
  {
   "cell_type": "markdown",
   "id": "05fbb12d-35b1-47ea-a918-0be19b74d804",
   "metadata": {
    "editable": true,
    "slideshow": {
     "slide_type": "subslide"
    },
    "tags": []
   },
   "source": [
    "## As Seen on Machine Learning {auto-animate=true}\n",
    "\n",
    "::: {style=\"margin-top: 2em\"}\n",
    "\n",
    "Penalties (constraint, sort of)\n",
    "\n",
    "$$\n",
    "\\underset{\\theta}{\\text{argmin}}\\ \\mathcal{L}(y,f(\\theta))\\color{blue}{+g(\\theta, \\lambda)}\n",
    "$$\n",
    "\n",
    ":::"
   ]
  },
  {
   "cell_type": "markdown",
   "id": "d2b981ca-37ba-467f-b592-09173739d18b",
   "metadata": {
    "editable": true,
    "slideshow": {
     "slide_type": "subslide"
    },
    "tags": []
   },
   "source": [
    "## As Seen on Machine Learning {auto-animate=true}\n",
    "\n",
    "::: {style=\"margin-top: 2em\"}\n",
    "\n",
    "Input/Output domain (constraint)\n",
    "\n",
    "$$\n",
    "\\underset{\\theta}{\\text{argmin}}\\ \\mathcal{L}(y,f(\\theta))+g(\\theta, \\lambda) \\\\\n",
    "\\color{blue}{f(\\theta): \\mathbb{R}^{n}\\to T,\\ T\\subseteq\\mathbb{R}^{m}}\n",
    "$$\n",
    "\n",
    ":::"
   ]
  },
  {
   "cell_type": "markdown",
   "id": "e3fe6cca-ce55-46e7-a157-171308930ddd",
   "metadata": {
    "editable": true,
    "slideshow": {
     "slide_type": "subslide"
    },
    "tags": []
   },
   "source": [
    "## What's so special about optimization? {auto-animate=true}"
   ]
  },
  {
   "cell_type": "markdown",
   "id": "d7066f1b-a2f9-4034-904e-7888e38ca0c8",
   "metadata": {},
   "source": [
    "::: {style=\"margin-top: 2em\"}\n",
    "\n",
    "Objective no longer explicitly represents loss nor references a target variable\n",
    "\n",
    "$$\n",
    "\\begin{align*}\n",
    "&\\underset{\\theta}{\\text{argmin}}\\ \\color{blue}{f({\\theta, X})} \\\\\n",
    "\\end{align*}\n",
    "$$\n",
    "\n",
    ":::"
   ]
  },
  {
   "cell_type": "markdown",
   "id": "e03c4914-2586-40b6-8515-ed09320eadf5",
   "metadata": {},
   "source": [
    "## What's so special about optimization? {auto-animate=true}\n",
    "\n",
    "::: {style=\"margin-top: 2em\"}\n",
    "\n",
    "Ability to require arbitrary (sort of) constraints\n",
    "\n",
    "$$\n",
    "\\begin{align*}\n",
    "&\\underset{\\theta}{\\text{argmin}}\\ f({\\theta, X}) \\\\\n",
    "&\\color{blue}{g_{i}(\\theta, X) < C_{i}, i\\ldots n}\n",
    "\\end{align*}\n",
    "$$\n",
    "\n",
    ":::"
   ]
  },
  {
   "cell_type": "markdown",
   "id": "ba23de9b-d19b-4f66-9309-c7c71e06bd48",
   "metadata": {},
   "source": [
    "## What's so special about optimization? {auto-animate=true}\n",
    "\n",
    "::: {style=\"margin-top: 2em\"}\n",
    "\n",
    "Model parameters no longer bound to strictly reals\n",
    "\n",
    "$$\n",
    "\\begin{align*}\n",
    "&\\underset{\\theta}{\\text{argmin}}\\ f({\\theta, X}) \\\\\n",
    "&g_{i}(\\theta, X) < C_{i}, i\\ldots n \\\\\n",
    "&\\color{blue}{\\theta\\in \\{\\mathbb{R},\\mathbb{Z},\\ldots}\\}\n",
    "\\end{align*}\n",
    "$$\n",
    "\n",
    ":::"
   ]
  },
  {
   "cell_type": "markdown",
   "id": "3684e8ca-fb57-4a21-bdd6-e36fa7fc6011",
   "metadata": {},
   "source": [
    "## Simple Example"
   ]
  },
  {
   "cell_type": "markdown",
   "id": "66ff59ad-ab70-4eea-9b0f-fc7ceefd5f61",
   "metadata": {},
   "source": [
    "<table>\n",
    "    <tr>\n",
    "        <td>\n",
    "            $\\underset{x_{i,j}}{\\text{argmin}}\\ \\sum_{i=1}^{n}{\\sum_{j=1,i\\ne j}^{n}{c_{i,j}x_{i,j}}}$\n",
    "        </td>\n",
    "        <td>\n",
    "            Minimize distance traveled\n",
    "        </td>\n",
    "    </tr>\n",
    "    <tr>\n",
    "        <td>\n",
    "            $x_{i,j}\\in \\{0, 1\\}$\n",
    "        </td>\n",
    "        <td>\n",
    "            Objective variable represents path assignments\n",
    "        </td>\n",
    "    </tr>\n",
    "    <tr>\n",
    "        <td>\n",
    "            $\\sum_{i=1,i\\ne j}^{n}{x_{i,j}}=1$\n",
    "        </td>\n",
    "        <td>\n",
    "            All cities have exactly one incoming path\n",
    "        </td>\n",
    "    </tr>\n",
    "    <tr>\n",
    "        <td>\n",
    "            $\\sum_{j=1,i\\ne j}^{n}{x_{i,j}}=1$\n",
    "        </td>\n",
    "        <td>\n",
    "            All cities have exactly one outgoing path\n",
    "        </td>\n",
    "    </tr>\n",
    "</table>"
   ]
  },
  {
   "cell_type": "markdown",
   "id": "36665053-449b-407c-b48d-5e77c6b9e855",
   "metadata": {},
   "source": [
    "## Question (Revisited)\n",
    "\n",
    "Mathematical optimization is _not_ special, \"loss optimization\" is!"
   ]
  },
  {
   "cell_type": "markdown",
   "id": "fb27543d-391d-4d03-a244-8d0be5acd51d",
   "metadata": {},
   "source": [
    "# Claim (Revisited)"
   ]
  },
  {
   "cell_type": "markdown",
   "id": "42662d3e-e107-4658-9391-25bfa42a2a1e",
   "metadata": {},
   "source": [
    "## Optimization is like this picture of icicles\n",
    "\n",
    "![](presentation-assets/icicles.avif)"
   ]
  },
  {
   "cell_type": "markdown",
   "id": "43e60f29-cf07-45a3-90b8-f085b0bda366",
   "metadata": {
    "jp-MarkdownHeadingCollapsed": true
   },
   "source": [
    "## \"Loss Optimization\" is like this picture of icicles with my thumb {auto-animate=true}\n",
    "\n",
    "![](presentation-assets/icicles-thumb.png)\n"
   ]
  },
  {
   "cell_type": "markdown",
   "id": "ec2bbe42-fb06-4d3c-b030-9559fe624d4c",
   "metadata": {
    "jp-MarkdownHeadingCollapsed": true
   },
   "source": [
    "## Or maybe auto focus {auto-animate=true}\n",
    "\n",
    "::: {.r-stack}\n",
    "![](presentation-assets/icicles-thumb.png){width=1050}\n",
    "\n",
    "![](presentation-assets/auto-focus.gif){width=\"80%\"}\n",
    ":::"
   ]
  },
  {
   "cell_type": "markdown",
   "id": "2eb736df-28dd-4fa9-b4a3-e1e0c12b4eaa",
   "metadata": {},
   "source": [
    "# Optimization and Data Science\n",
    "## Three Examples\n",
    "\n",
    "- Customer lifetime value\n",
    "- Immaculate Grid\n",
    "- Cryptogram"
   ]
  },
  {
   "cell_type": "markdown",
   "id": "65ba3b26-5e71-4a04-bd5d-52d206e1aa56",
   "metadata": {},
   "source": [
    "## CLV\n",
    "\n",
    "Imagine a customer with $x$ transactions during the period $(0,T]$\n",
    "\n",
    "- Can we estimate the customer's future lifetime value?\n",
    "- How many more transactions will they generate before they churn?\n",
    "\n",
    "![](presentation-assets/clv.png)"
   ]
  },
  {
   "cell_type": "markdown",
   "id": "6eecf48a-664a-4616-9f0e-bc011419fcf9",
   "metadata": {},
   "source": [
    "## CLV: Beta-Geo Model\n",
    "\n",
    "![](presentation-assets/beta-geo.png)"
   ]
  },
  {
   "cell_type": "markdown",
   "id": "3ed404ed-6556-43f9-9e7a-1997ebfa24cb",
   "metadata": {},
   "source": [
    "## CLV: Maximum Likelihood\n",
    "\n",
    "$$\n",
    "\\begin{equation}\\tag{7}\n",
    "\\text{LL}(r,\\alpha,a,b)=\\sum_{i=1}^{n}{L(r,\\alpha,a,b\\vert X_{i}=x_{i},t_{x},T_{i})}\\ \\ \\ \\ \\ \\ \\ \\ \\ \\ \n",
    "\\end{equation}\n",
    "$$\n",
    "\n",
    "> [Maximum likelihood estimates of the model parameters (r, α,\u000b",
    "a,\u000b",
    "b) are obtained by maximizing the loglikelihood function given in (7) above.](https://brucehardie.com/papers/018/fader_et_al_mksc_05.pdf)"
   ]
  },
  {
   "cell_type": "markdown",
   "id": "8a9c8b41-9e82-4d0f-86bf-c31e9f8723d0",
   "metadata": {},
   "source": [
    "## Excel?\n",
    "\n",
    "\n",
    "![](presentation-assets/excel.png){fig-align=\"center\"}\n",
    "\n",
    "> This is very easy to code in Excel—see Figure 1 for\n",
    "complete details."
   ]
  },
  {
   "cell_type": "markdown",
   "id": "b5998b4f-0bd4-4228-9d4f-20f24e9e9f19",
   "metadata": {},
   "source": [
    "## Or not\n",
    "\n",
    "``` {.python code-line-numbers=\"1-2,7\"}\n",
    "from autograd import value_and_grad\n",
    "from scipy.optimize import minimize\n",
    "\n",
    "def _fit(self, ...):\n",
    "    ...\n",
    "    output = minimize(\n",
    "        value_and_grad(self._negative_log_likelihood),\n",
    "        jac=True,\n",
    "        method=None,\n",
    "        tol=tol,\n",
    "        x0=current_init_params,\n",
    "        args=minimizing_function_args,\n",
    "        options=minimize_options,\n",
    "        bounds=bounds,\n",
    "    )\n",
    "```"
   ]
  },
  {
   "cell_type": "markdown",
   "id": "10bff7eb-1c44-49de-a3dc-6a3d3a08160d",
   "metadata": {},
   "source": [
    "# Pause"
   ]
  },
  {
   "cell_type": "markdown",
   "id": "f2ebdec7-6141-4de5-93a9-6f132f673ba3",
   "metadata": {
    "editable": true,
    "slideshow": {
     "slide_type": "subslide"
    },
    "tags": []
   },
   "source": [
    "## An example: Immaculate Grid\n",
    "\n",
    "![](presentation-assets/immaculate-grid.png){fig-align=\"center\"}"
   ]
  },
  {
   "cell_type": "markdown",
   "id": "c216bce2-2d78-47d4-a835-99e4c4fb13d0",
   "metadata": {
    "editable": true,
    "slideshow": {
     "slide_type": "subslide"
    },
    "tags": []
   },
   "source": [
    "## An example: Immaculate Grid\n",
    "\n",
    "![](presentation-assets/immaculate-grid-partially-solved.png){fig-align=\"center\"}"
   ]
  },
  {
   "cell_type": "markdown",
   "id": "05725935-2de3-4933-b3e0-6d7fe550b9d7",
   "metadata": {},
   "source": [
    "## Immaculate Grid Solver: Decision variable"
   ]
  },
  {
   "cell_type": "markdown",
   "id": "1cafdb9d-9b11-41ab-b6b5-748defcbaf7d",
   "metadata": {},
   "source": [
    "::: {.absolute top=150 left=0 width=\"1120\" height=\"300\"}\n",
    "```python\n",
    "x = []\n",
    "for (n, i, j), _ in np.ndenumerate(s):\n",
    "    name = f'x{n}_{i},{j}'\n",
    "    setattr(m, name, pyo.Var(domain=pyo.Binary))\n",
    "    x.append(getattr(m, name))\n",
    "x = np.array(x).reshape(s.shape)\n",
    "```\n",
    ":::\n",
    "\n",
    "::: {.absolute top=167 left=750 width=\"350\" height=\"300\"}\n",
    "::: {style=\"font-size:.7em\"}\n",
    "Each variable assigns each player $n$ to box $i,j$\n",
    "$\\\\x\\in\\{0,1\\}^{n,i,j}$\n",
    ":::\n",
    ":::"
   ]
  },
  {
   "cell_type": "markdown",
   "id": "2e35dac6-3f24-4157-b2b1-12fc810c0050",
   "metadata": {},
   "source": [
    "## Immaculate Grid Solver: Objective Function\n",
    "\n",
    "::: {.absolute top=150 left=0 width=\"1120\" height=\"300\"}\n",
    "```python\n",
    "\n",
    "def objective(model):\n",
    "    return -x.sum()\n",
    "    \n",
    "```\n",
    ":::\n",
    "\n",
    "::: {.absolute top=145 left=470 width=\"1120\" height=\"300\"}\n",
    "::: {style=\"font-size: .7em\"}\n",
    "Maximize the number of boxes assigned to a player\n",
    "$\\\\\\underset{x}{\\text{argmin}} -\\sum_{n=1}^{N}{\\sum_{i=1}^{9}{\\sum_{j=1}^{9}{x_{n,i,j}}}}$\n",
    ":::\n",
    ":::"
   ]
  },
  {
   "cell_type": "markdown",
   "id": "2af5ce0d-562e-4d2b-b75f-ef5863295710",
   "metadata": {
    "jp-MarkdownHeadingCollapsed": true
   },
   "source": [
    "## Constraints\n",
    "\n",
    "::: {.absolute top=150 left=0 width=\"1120\" height=\"300\"}\n",
    "```python\n",
    "m.c1 = pyo.ConstraintList()  \n",
    "for c in x.sum(axis=(1, 2)): \n",
    "    m.c1.add(c <= 1)\n",
    "\n",
    "\n",
    "m.c2 = pyo.ConstraintList()           \n",
    "for (n, i, j), _ in np.ndenumerate(s):\n",
    "   m.c2.add(x[n,i,j] <= s[n,i,j])\n",
    "\n",
    "\n",
    "m.c3 = pyo.ConstraintList()\n",
    "for c in x.sum(axis=0).ravel():\n",
    "    m.c3.add(c <= 1)\n",
    "```\n",
    ":::\n",
    "\n",
    "::: {.absolute top=137 left=625 width=\"565\" height=\"300\"}\n",
    "::: {style=\"font-size: .7em\"}\n",
    "Each player assigned to at most one box\n",
    "$\\sum_{i=1}^{9}{\\sum_{j=1}^{9}{x_{n,i,j}}}=1,\\ \\forall n$ \n",
    ":::\n",
    ":::\n",
    "\n",
    "::: {.absolute top=270 left=625 width=\"565\" height=\"300\"}\n",
    "::: {style=\"font-size: .7em\"}\n",
    "Player must satisfy criteria\n",
    "$\\\\x_{n,i,j}\\le s_{n,i,j}$ \n",
    ":::\n",
    ":::\n",
    "\n",
    ":::{.absolute top=412 left=625 width=\"600\" height=\"300\"}\n",
    "::: {style=\"font-size: .7em\"}\n",
    "Each box assigned at most one player\n",
    "$\\\\\\sum_{n=1}^{N}{x_{n,i,j}}\\leq 1, \\forall i,j$\n",
    ":::\n",
    ":::"
   ]
  },
  {
   "cell_type": "markdown",
   "id": "a93c3a8d-aa92-4042-b7c4-f1694c266d8b",
   "metadata": {
    "jp-MarkdownHeadingCollapsed": true
   },
   "source": [
    "## Constraints {auto-animate=true}\n",
    "\n",
    "::: {.absolute top=150 left=0 width=\"1120\" height=\"300\"}\n",
    "``` {.python code-line-numbers=\"6-8\"}\n",
    "m.c1 = pyo.ConstraintList()  \n",
    "for c in x.sum(axis=(1, 2)): \n",
    "    m.c1.add(c <= 1)\n",
    "\n",
    "\n",
    "m.c2 = pyo.ConstraintList()           \n",
    "for (n, i, j), _ in np.ndenumerate(s):\n",
    "   m.c2.add(x[n,i,j] <= s[n,i,j])\n",
    "\n",
    "\n",
    "m.c3 = pyo.ConstraintList()\n",
    "for c in x.sum(axis=0).ravel():\n",
    "    m.c3.add(c <= 1)\n",
    "```\n",
    ":::\n",
    "\n",
    "::: {.absolute top=137 left=625 width=\"565\" height=\"300\"}\n",
    "::: {style=\"font-size: .7em\"}\n",
    "Each player assigned to at most one box\n",
    "$\\sum_{i=1}^{9}{\\sum_{j=1}^{9}{x_{n,i,j}}}=1,\\ \\forall n$ \n",
    ":::\n",
    ":::\n",
    "\n",
    "::: {.absolute top=270 left=625 width=\"565\" height=\"300\"}\n",
    "::: {style=\"font-size: .7em;\"}\n",
    "Player must satisfy criteria\n",
    "$\\\\x_{n,i,j}\\le s_{n,i,j}$ \n",
    ":::\n",
    ":::\n",
    "\n",
    ":::{.absolute top=412 left=625 width=\"600\" height=\"300\"}\n",
    "::: {style=\"font-size: .7em\"}\n",
    "Each box assigned at most one player\n",
    "$\\\\\\sum_{n=1}^{N}{x_{n,i,j}}\\leq 1, \\forall i,j$\n",
    ":::\n",
    ":::"
   ]
  },
  {
   "cell_type": "markdown",
   "id": "cb5c7098-ad47-41ce-8d0b-0f5925943eab",
   "metadata": {
    "editable": true,
    "slideshow": {
     "slide_type": "slide"
    },
    "tags": []
   },
   "source": [
    "# A Hybrid Example: Cryptogram Solver"
   ]
  },
  {
   "cell_type": "markdown",
   "id": "8de3cf02-d38a-49fd-94c9-7c6fec382e43",
   "metadata": {},
   "source": [
    "## Example\n",
    "\n",
    "<div style=\"font-size: .65em; font-family:monospace\">\n",
    "\n",
    "<span style=\"color: grey\"><tt>THE GREAT SHIPS HUNG MOTIONLESS IN THE AIR,...</tt></span>\n",
    "<br>\n",
    "<span><tt><strong>LUK JRKZL YUSGY UQNJ TBLSBNEKYY SN LUK ZSR,...</strong></tt></span>\n",
    "<br><br>\n",
    "\n",
    "\n",
    "<span style=\"color: grey\"><tt>A BLASPHEMY AGAINST NATURE...</tt></span>\n",
    "<br>\n",
    "<span><tt><strong>Z AEZYGUKTM ZJZSNYL NZLQRK...</strong></tt></span>\n",
    "<br><br>\n",
    "\n",
    "\n",
    "<span style=\"color: grey\"><tt>THE SHIPS HUNG IN THE SKY IN MUCH THE SAME WAY THAT BRICKS DON'T.</tt></span>\n",
    "<br>\n",
    "<span><tt><strong>LUK YUSGY UQNJ SN LUK YDM SN TQHU LUK YZTK CZM LUZL ARSHDY FBN'L.</strong></tt></span>\n",
    "<br><br>\n",
    "\n",
    "</div>"
   ]
  },
  {
   "cell_type": "markdown",
   "id": "57f3c70c-fc9a-4a11-9d64-30f51953d577",
   "metadata": {},
   "source": [
    "$$A\\rightarrow Z$$\n",
    "$$B\\rightarrow A$$\n",
    "$$C\\rightarrow H$$\n",
    "$$D\\rightarrow F$$\n",
    "$$E\\rightarrow K$$\n",
    "$$F\\rightarrow W$$\n",
    "$$G\\rightarrow J$$\n",
    "$$H\\rightarrow U$$\n",
    "$$I\\rightarrow S$$\n",
    "$$J\\rightarrow X$$\n",
    "$$K\\rightarrow D$$\n",
    "$$L\\rightarrow E$$\n",
    "$$M\\rightarrow T$$\n",
    "$$N\\rightarrow N$$\n",
    "$$O\\rightarrow B$$\n",
    "$$P\\rightarrow G$$\n",
    "$$Q\\rightarrow I$$\n",
    "$$R\\rightarrow R$$\n",
    "$$S\\rightarrow Y$$\n",
    "$$T\\rightarrow L$$\n",
    "$$U\\rightarrow Q$$\n",
    "$$V\\rightarrow V$$\n",
    "$$W\\rightarrow C$$\n",
    "$$X\\rightarrow P$$\n",
    "$$Y\\rightarrow M$$\n",
    "$$Z\\rightarrow O$$"
   ]
  },
  {
   "cell_type": "markdown",
   "id": "b1821aeb-8ca2-4b9a-82d2-ca9296a1e391",
   "metadata": {
    "editable": true,
    "slideshow": {
     "slide_type": ""
    },
    "tags": []
   },
   "source": [
    "# Motivating Examples From Industry\n",
    "## Health Care"
   ]
  },
  {
   "cell_type": "markdown",
   "id": "d5089d72-6dfc-4928-9453-14317b836406",
   "metadata": {
    "editable": true,
    "slideshow": {
     "slide_type": ""
    },
    "tags": []
   },
   "source": [
    "# Motivating Examples From Industry\n",
    "## Ad Campaigns"
   ]
  },
  {
   "cell_type": "markdown",
   "id": "0d15497a-b8c9-45ba-b755-8315dcd8efa7",
   "metadata": {
    "editable": true,
    "slideshow": {
     "slide_type": "skip"
    },
    "tags": []
   },
   "source": [
    "$$\n",
    "\\begin{align}\n",
    "\\underset{A}{\\text{argmin}}\\ &\\vert (AM^{T})_{i}-g_{i}\\vert&&&\\text{Minimize impressions wasted}\\\\\n",
    "\\text{s.t.}&&&&\\\\\n",
    "&A\\in{\\{0,1\\}}^{n,m} &&&\\text{Cannot allocate fractional spots}\\\\\n",
    "&\\text{row}_{j}(A)C^{T} \\leq b_{i} & i=1\\ldots n &&\\text{Cannot exceed budget}\\\\\n",
    "&\\sum_{i=1}^{n}{A_{i,j}}=1 & j=1\\ldots m && \\text{Spots cannot be allocated multiple campaigns}\n",
    "\\end{align}\n",
    "$$"
   ]
  },
  {
   "cell_type": "markdown",
   "id": "07200e47-4461-459c-a7ae-6840a551f303",
   "metadata": {
    "editable": true,
    "slideshow": {
     "slide_type": ""
    },
    "tags": []
   },
   "source": [
    "<table>\n",
    "    <tr>\n",
    "        <td>\n",
    "            $\\underset{A}{\\text{argmin}}\\ \\sum_{i}^{n}{\\vert(AM^{T})_{i}-g_{i}\\vert}$\n",
    "        </td>\n",
    "        <td>\n",
    "        </td>\n",
    "        <td>\n",
    "            Minimize impressions wasted\n",
    "        </td>\n",
    "    </tr>\n",
    "    <tr>\n",
    "        <td>\n",
    "            $A\\in{\\{0,1\\}}^{n\\times m}$\n",
    "        </td>\n",
    "        <td>\n",
    "        </td>\n",
    "        <td>\n",
    "            Must allocate entire spot\n",
    "        </td>\n",
    "    </tr>\n",
    "    <tr>\n",
    "        <td>\n",
    "            $\\sum_{j}^{m}{A_{i,j}C_{j}}\\leq b_{i}$\n",
    "        </td>\n",
    "        <td>\n",
    "            $i=1\\ldots n$\n",
    "        </td>\n",
    "        <td>\n",
    "            Cannot exceed budget\n",
    "        </td>\n",
    "    </tr>\n",
    "    <tr>\n",
    "        <td>\n",
    "            $\\sum_{i=1}^{n}{A_{i,j}}=1$\n",
    "        </td>\n",
    "        <td>\n",
    "            $j=1\\ldots m$\n",
    "        </td>\n",
    "        <td>\n",
    "            Spots cannot be allocated to multiple campaigns\n",
    "        </td>\n",
    "    </tr>\n",
    "</table>"
   ]
  },
  {
   "cell_type": "markdown",
   "id": "1ba5bdd3-37be-4b7f-86a9-a43cf2e281bc",
   "metadata": {
    "editable": true,
    "slideshow": {
     "slide_type": "slide"
    },
    "tags": []
   },
   "source": [
    "## Tips\n",
    "### Absolute Value"
   ]
  },
  {
   "cell_type": "markdown",
   "id": "f4fdc9e2-a0c0-4f33-8d9a-41839b4bc82e",
   "metadata": {
    "editable": true,
    "slideshow": {
     "slide_type": "skip"
    },
    "tags": []
   },
   "source": [
    "$$\n",
    "\\begin{align}\n",
    "\\underset{A\\in{\\{0,1\\}}^{n,m}}{\\text{argmin}}\\ \\sum_{i=1}^{n}{U_{i}}&&\\\\\n",
    "&g_{t}-\\sum_{j=1}^{m}{A_{i,j}M_{j}}\\leq U_{i} & i=1\\ldots n \\\\\n",
    "&g_{t}-\\sum_{j=1}^{m}{A_{i,j}M_{j}}\\geq -U_{i} & i=1\\ldots n \\\\\n",
    "\\end{align}\n",
    "$$"
   ]
  },
  {
   "cell_type": "markdown",
   "id": "750f3018-bd72-4cfa-8242-c5dcc13ad4c2",
   "metadata": {
    "editable": true,
    "slideshow": {
     "slide_type": "slide"
    },
    "tags": []
   },
   "source": [
    "# Appendix\n",
    "\n",
    "- Perpay is hiring\n",
    "- Link to slides\n",
    "- Resources"
   ]
  },
  {
   "cell_type": "markdown",
   "id": "7a69ce11-48d6-4325-ab52-9634bf2c7b55",
   "metadata": {},
   "source": [
    "## As Seen on Machine Learning\n",
    "\n",
    "::: {.center style=\"font-size: .8em;\"}\n",
    "<table>\n",
    "    <tr>\n",
    "        <td>\n",
    "            Constraint\n",
    "        </td>\n",
    "        <td></td>\n",
    "        <td>\n",
    "            Transformation\n",
    "        </td>\n",
    "        <td></td>\n",
    "    </tr>\n",
    "    <tr>\n",
    "        <td>\n",
    "            $f(\\theta)\\in [0, 1]$\n",
    "        </td>\n",
    "        <td>\n",
    "            $\\rightarrow$\n",
    "        </td>\n",
    "        <td>\n",
    "            $\\frac{1}{1+e^{-x}}$\n",
    "        </td>\n",
    "        <td>\n",
    "            sigmoid\n",
    "        </td>\n",
    "    </tr>\n",
    "    <tr>\n",
    "        <td>\n",
    "            $f(\\theta)\\in R^{+}$\n",
    "        </td>\n",
    "        <td>\n",
    "            $\\rightarrow$\n",
    "        </td>\n",
    "        <td>\n",
    "            $ln(1+e^{x})$\n",
    "        </td>\n",
    "        <td>\n",
    "            softplus\n",
    "        </td>\n",
    "    </tr>\n",
    "    <tr>\n",
    "        <td>\n",
    "            $f(\\theta)\\in [0, 1]^{n}, \\langle f(\\theta),\\textbf{1}\\rangle=1$\n",
    "        </td>\n",
    "        <td>\n",
    "            $\\rightarrow$\n",
    "        </td>\n",
    "        <td>\n",
    "            $\\frac{e^{x_{i}}}{\\sum_{j}^{K}{e^{x_{j}}}}$\n",
    "        </td>\n",
    "        <td>\n",
    "            softmax\n",
    "        </td>\n",
    "    </tr>\n",
    "</table>\n",
    ":::"
   ]
  },
  {
   "cell_type": "markdown",
   "id": "8284439e-e371-4567-b2e5-a308c22ba3e9",
   "metadata": {},
   "source": [
    "# Lifetimes"
   ]
  },
  {
   "cell_type": "markdown",
   "id": "1aa9b93c-7104-4926-a60b-41515dc0a7a2",
   "metadata": {
    "editable": true,
    "jp-MarkdownHeadingCollapsed": true,
    "slideshow": {
     "slide_type": ""
    },
    "tags": []
   },
   "source": [
    "## Simple Example\n",
    "$$\n",
    "\\begin{align*}\n",
    "\\underset{\\theta}{\\text{argmin}}&\\ f({\\theta, X}) &\\text{Objective Function}\\\\\n",
    "\\text{s.t.}& &\\text{Subject to}\\\\\n",
    "&\\ \\theta_{i}\\in{\\mathbb{Z}^{+}} &\\text{Assign entire resources}\\\\\n",
    "&\\ \\theta_{i}>0 &\\text{Non-negativity}\\\\\n",
    "&\\ \\sum_{i=1}^{n}{\\theta_{i}} < B &\\text{Budget} \\\\\n",
    "\\end{align*}\n",
    "$$"
   ]
  }
 ],
 "metadata": {
  "kernelspec": {
   "display_name": "default",
   "language": "python",
   "name": "default"
  },
  "language_info": {
   "codemirror_mode": {
    "name": "ipython",
    "version": 3
   },
   "file_extension": ".py",
   "mimetype": "text/x-python",
   "name": "python",
   "nbconvert_exporter": "python",
   "pygments_lexer": "ipython3",
   "version": "3.9.17"
  }
 },
 "nbformat": 4,
 "nbformat_minor": 5
}
